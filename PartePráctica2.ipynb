{
  "nbformat": 4,
  "nbformat_minor": 0,
  "metadata": {
    "colab": {
      "provenance": [],
      "include_colab_link": true
    },
    "kernelspec": {
      "name": "python3",
      "display_name": "Python 3"
    },
    "language_info": {
      "name": "python"
    }
  },
  "cells": [
    {
      "cell_type": "markdown",
      "metadata": {
        "id": "view-in-github",
        "colab_type": "text"
      },
      "source": [
        "<a href=\"https://colab.research.google.com/github/AlyFigueroa/Estad-stica-1-y-2/blob/main/PartePr%C3%A1ctica2.ipynb\" target=\"_parent\"><img src=\"https://colab.research.google.com/assets/colab-badge.svg\" alt=\"Open In Colab\"/></a>"
      ]
    },
    {
      "cell_type": "markdown",
      "source": [
        "#Estadística Descriptiva - Segundo Parcial\n",
        "\n",
        "\n",
        "---\n",
        "\n",
        "\n",
        " Análisis de variables EDAD_PADRE y N_EMB en nacimientos de Colombia 2022\n",
        "\n",
        "\n",
        "---\n",
        "\n",
        "\n",
        "\n",
        "\n",
        " **Introducción**\n",
        "\n",
        " En este trabajo se realiza un análisis descriptivo de dos variables relacionadas con los nacimientos en Colombia durante 2022: la edad del padre (EDAD_PADRE) y el número de embarazos (N_EMB). Se utilizan herramientas de estadística descriptiva, gráficos y pruebas de normalidad. Finalmente, se estudia la correlación entre ambas variables.\n"
      ],
      "metadata": {
        "id": "fmIJHhcutUuA"
      }
    },
    {
      "cell_type": "code",
      "execution_count": 2,
      "metadata": {
        "id": "L8bbMoijZa2P",
        "colab": {
          "base_uri": "https://localhost:8080/",
          "height": 73
        },
        "outputId": "06b447ea-332a-4ce9-b7ae-8173d123b39b"
      },
      "outputs": [
        {
          "output_type": "display_data",
          "data": {
            "text/plain": [
              "<IPython.core.display.HTML object>"
            ],
            "text/html": [
              "\n",
              "     <input type=\"file\" id=\"files-82fd9e8c-8603-411a-9998-0731c1c4892c\" name=\"files[]\" multiple disabled\n",
              "        style=\"border:none\" />\n",
              "     <output id=\"result-82fd9e8c-8603-411a-9998-0731c1c4892c\">\n",
              "      Upload widget is only available when the cell has been executed in the\n",
              "      current browser session. Please rerun this cell to enable.\n",
              "      </output>\n",
              "      <script>// Copyright 2017 Google LLC\n",
              "//\n",
              "// Licensed under the Apache License, Version 2.0 (the \"License\");\n",
              "// you may not use this file except in compliance with the License.\n",
              "// You may obtain a copy of the License at\n",
              "//\n",
              "//      http://www.apache.org/licenses/LICENSE-2.0\n",
              "//\n",
              "// Unless required by applicable law or agreed to in writing, software\n",
              "// distributed under the License is distributed on an \"AS IS\" BASIS,\n",
              "// WITHOUT WARRANTIES OR CONDITIONS OF ANY KIND, either express or implied.\n",
              "// See the License for the specific language governing permissions and\n",
              "// limitations under the License.\n",
              "\n",
              "/**\n",
              " * @fileoverview Helpers for google.colab Python module.\n",
              " */\n",
              "(function(scope) {\n",
              "function span(text, styleAttributes = {}) {\n",
              "  const element = document.createElement('span');\n",
              "  element.textContent = text;\n",
              "  for (const key of Object.keys(styleAttributes)) {\n",
              "    element.style[key] = styleAttributes[key];\n",
              "  }\n",
              "  return element;\n",
              "}\n",
              "\n",
              "// Max number of bytes which will be uploaded at a time.\n",
              "const MAX_PAYLOAD_SIZE = 100 * 1024;\n",
              "\n",
              "function _uploadFiles(inputId, outputId) {\n",
              "  const steps = uploadFilesStep(inputId, outputId);\n",
              "  const outputElement = document.getElementById(outputId);\n",
              "  // Cache steps on the outputElement to make it available for the next call\n",
              "  // to uploadFilesContinue from Python.\n",
              "  outputElement.steps = steps;\n",
              "\n",
              "  return _uploadFilesContinue(outputId);\n",
              "}\n",
              "\n",
              "// This is roughly an async generator (not supported in the browser yet),\n",
              "// where there are multiple asynchronous steps and the Python side is going\n",
              "// to poll for completion of each step.\n",
              "// This uses a Promise to block the python side on completion of each step,\n",
              "// then passes the result of the previous step as the input to the next step.\n",
              "function _uploadFilesContinue(outputId) {\n",
              "  const outputElement = document.getElementById(outputId);\n",
              "  const steps = outputElement.steps;\n",
              "\n",
              "  const next = steps.next(outputElement.lastPromiseValue);\n",
              "  return Promise.resolve(next.value.promise).then((value) => {\n",
              "    // Cache the last promise value to make it available to the next\n",
              "    // step of the generator.\n",
              "    outputElement.lastPromiseValue = value;\n",
              "    return next.value.response;\n",
              "  });\n",
              "}\n",
              "\n",
              "/**\n",
              " * Generator function which is called between each async step of the upload\n",
              " * process.\n",
              " * @param {string} inputId Element ID of the input file picker element.\n",
              " * @param {string} outputId Element ID of the output display.\n",
              " * @return {!Iterable<!Object>} Iterable of next steps.\n",
              " */\n",
              "function* uploadFilesStep(inputId, outputId) {\n",
              "  const inputElement = document.getElementById(inputId);\n",
              "  inputElement.disabled = false;\n",
              "\n",
              "  const outputElement = document.getElementById(outputId);\n",
              "  outputElement.innerHTML = '';\n",
              "\n",
              "  const pickedPromise = new Promise((resolve) => {\n",
              "    inputElement.addEventListener('change', (e) => {\n",
              "      resolve(e.target.files);\n",
              "    });\n",
              "  });\n",
              "\n",
              "  const cancel = document.createElement('button');\n",
              "  inputElement.parentElement.appendChild(cancel);\n",
              "  cancel.textContent = 'Cancel upload';\n",
              "  const cancelPromise = new Promise((resolve) => {\n",
              "    cancel.onclick = () => {\n",
              "      resolve(null);\n",
              "    };\n",
              "  });\n",
              "\n",
              "  // Wait for the user to pick the files.\n",
              "  const files = yield {\n",
              "    promise: Promise.race([pickedPromise, cancelPromise]),\n",
              "    response: {\n",
              "      action: 'starting',\n",
              "    }\n",
              "  };\n",
              "\n",
              "  cancel.remove();\n",
              "\n",
              "  // Disable the input element since further picks are not allowed.\n",
              "  inputElement.disabled = true;\n",
              "\n",
              "  if (!files) {\n",
              "    return {\n",
              "      response: {\n",
              "        action: 'complete',\n",
              "      }\n",
              "    };\n",
              "  }\n",
              "\n",
              "  for (const file of files) {\n",
              "    const li = document.createElement('li');\n",
              "    li.append(span(file.name, {fontWeight: 'bold'}));\n",
              "    li.append(span(\n",
              "        `(${file.type || 'n/a'}) - ${file.size} bytes, ` +\n",
              "        `last modified: ${\n",
              "            file.lastModifiedDate ? file.lastModifiedDate.toLocaleDateString() :\n",
              "                                    'n/a'} - `));\n",
              "    const percent = span('0% done');\n",
              "    li.appendChild(percent);\n",
              "\n",
              "    outputElement.appendChild(li);\n",
              "\n",
              "    const fileDataPromise = new Promise((resolve) => {\n",
              "      const reader = new FileReader();\n",
              "      reader.onload = (e) => {\n",
              "        resolve(e.target.result);\n",
              "      };\n",
              "      reader.readAsArrayBuffer(file);\n",
              "    });\n",
              "    // Wait for the data to be ready.\n",
              "    let fileData = yield {\n",
              "      promise: fileDataPromise,\n",
              "      response: {\n",
              "        action: 'continue',\n",
              "      }\n",
              "    };\n",
              "\n",
              "    // Use a chunked sending to avoid message size limits. See b/62115660.\n",
              "    let position = 0;\n",
              "    do {\n",
              "      const length = Math.min(fileData.byteLength - position, MAX_PAYLOAD_SIZE);\n",
              "      const chunk = new Uint8Array(fileData, position, length);\n",
              "      position += length;\n",
              "\n",
              "      const base64 = btoa(String.fromCharCode.apply(null, chunk));\n",
              "      yield {\n",
              "        response: {\n",
              "          action: 'append',\n",
              "          file: file.name,\n",
              "          data: base64,\n",
              "        },\n",
              "      };\n",
              "\n",
              "      let percentDone = fileData.byteLength === 0 ?\n",
              "          100 :\n",
              "          Math.round((position / fileData.byteLength) * 100);\n",
              "      percent.textContent = `${percentDone}% done`;\n",
              "\n",
              "    } while (position < fileData.byteLength);\n",
              "  }\n",
              "\n",
              "  // All done.\n",
              "  yield {\n",
              "    response: {\n",
              "      action: 'complete',\n",
              "    }\n",
              "  };\n",
              "}\n",
              "\n",
              "scope.google = scope.google || {};\n",
              "scope.google.colab = scope.google.colab || {};\n",
              "scope.google.colab._files = {\n",
              "  _uploadFiles,\n",
              "  _uploadFilesContinue,\n",
              "};\n",
              "})(self);\n",
              "</script> "
            ]
          },
          "metadata": {}
        },
        {
          "output_type": "stream",
          "name": "stdout",
          "text": [
            "Saving nac2020.csv to nac2020.csv\n"
          ]
        }
      ],
      "source": [
        " from google.colab import files\n",
        "uploaded = files.upload()"
      ]
    },
    {
      "cell_type": "markdown",
      "source": [
        "Aquí cargamos el archivo *nac2022.csv* desde nuestro computador a Google Colab usando la función *files.upload()*."
      ],
      "metadata": {
        "id": "5edEUZaksqS6"
      }
    },
    {
      "cell_type": "code",
      "source": [
        "import pandas as pd\n",
        "import io\n",
        "import matplotlib.pyplot as plt\n",
        "import seaborn as sns\n",
        "import numpy as np\n",
        "from scipy.stats import norm\n",
        "import matplotlib.pyplot as plt\n",
        "from scipy.stats import shapiro\n",
        "import plotly.express as px\n",
        "from scipy.stats import skew, kurtosis\n",
        "from sklearn.linear_model import LinearRegression\n",
        "from scipy.stats import spearmanr, kendalltau"
      ],
      "metadata": {
        "id": "7HoQZ3M0m9e5"
      },
      "execution_count": 4,
      "outputs": []
    },
    {
      "cell_type": "markdown",
      "source": [
        "En este bloque se importan diferentes librerías necesarias para el análisis:\n",
        "\n",
        "* **pandas (pd)**: para el manejo y análisis de datos en forma de tablas (dataframes).\n",
        "* **io**: para la lectura de archivos cargados.\n",
        "* **matplotlib.pyplot (plt)**: para la creación de gráficos.\n",
        "* **seaborn (sns)**: para generar gráficos estadísticos más estilizados.\n",
        "* **numpy (np)**: para realizar operaciones matemáticas y estadísticas.\n",
        "* **scipy.stats.norm**: para trabajar con distribuciones normales.\n",
        "* **scipy.stats.shapiro**: para aplicar la prueba de normalidad de Shapiro-Wilk.\n",
        "* **plotly.express (px)**: para hacer gráficos interactivos.\n",
        "* **scipy.stats.skew y kurtosis**: para calcular la asimetría y la curtosis de los datos.\n",
        "* **sklearn.linear_model.LinearRegression**: para realizar regresiones lineales.\n",
        "* **scipy.stats.spearmanr y kendalltau:** para calcular coeficientes de correlación no paramétricos (Spearman y Kendall).\""
      ],
      "metadata": {
        "id": "ltWjeZIeuAd8"
      }
    },
    {
      "cell_type": "code",
      "source": [
        "io_csv = io.BytesIO(uploaded['nac2020.csv'])\n",
        "tabla = pd.read_csv(io_csv, sep = \",\", index_col=0, encoding='latin-1')\n",
        "tabla.head(3)\n"
      ],
      "metadata": {
        "colab": {
          "base_uri": "https://localhost:8080/",
          "height": 224
        },
        "id": "Kl4IRTpPsZIA",
        "outputId": "74102e1b-b31b-4b69-8fbd-4d1b8aa755eb"
      },
      "execution_count": 5,
      "outputs": [
        {
          "output_type": "execute_result",
          "data": {
            "text/plain": [
              "          COD_MUNIC  AREANAC  SIT_PARTO OTRO_SIT  SEXO  PESO_NAC  TALLA_NAC  \\\n",
              "COD_DPTO                                                                      \n",
              "44              560        3          2      NaN     2         9          9   \n",
              "44              560        3          2      NaN     1         9          9   \n",
              "44              560        3          2      NaN     1         9          9   \n",
              "\n",
              "           ANO  MES  ATEN_PAR  ...  AREA_RES  N_HIJOSV  FECHA_NACM  N_EMB  \\\n",
              "COD_DPTO                       ...                                          \n",
              "44        2020   11         5  ...       3.0         1         NaN      1   \n",
              "44        2020   10         5  ...       3.0         1         NaN      1   \n",
              "44        2020   10         5  ...       3.0         1         NaN      1   \n",
              "\n",
              "          SEG_SOCIAL  IDCLASADMI  EDAD_PADRE  NIV_EDUP  ULTCURPAD  PROFESION  \n",
              "COD_DPTO                                                                      \n",
              "44                 2         2.0          20        99         99          5  \n",
              "44                 2         2.0          20        99         99          5  \n",
              "44                 2         2.0          20        99         99          5  \n",
              "\n",
              "[3 rows x 36 columns]"
            ],
            "text/html": [
              "\n",
              "  <div id=\"df-69d4a74d-7cfd-4425-9be8-d6e3955561b5\" class=\"colab-df-container\">\n",
              "    <div>\n",
              "<style scoped>\n",
              "    .dataframe tbody tr th:only-of-type {\n",
              "        vertical-align: middle;\n",
              "    }\n",
              "\n",
              "    .dataframe tbody tr th {\n",
              "        vertical-align: top;\n",
              "    }\n",
              "\n",
              "    .dataframe thead th {\n",
              "        text-align: right;\n",
              "    }\n",
              "</style>\n",
              "<table border=\"1\" class=\"dataframe\">\n",
              "  <thead>\n",
              "    <tr style=\"text-align: right;\">\n",
              "      <th></th>\n",
              "      <th>COD_MUNIC</th>\n",
              "      <th>AREANAC</th>\n",
              "      <th>SIT_PARTO</th>\n",
              "      <th>OTRO_SIT</th>\n",
              "      <th>SEXO</th>\n",
              "      <th>PESO_NAC</th>\n",
              "      <th>TALLA_NAC</th>\n",
              "      <th>ANO</th>\n",
              "      <th>MES</th>\n",
              "      <th>ATEN_PAR</th>\n",
              "      <th>...</th>\n",
              "      <th>AREA_RES</th>\n",
              "      <th>N_HIJOSV</th>\n",
              "      <th>FECHA_NACM</th>\n",
              "      <th>N_EMB</th>\n",
              "      <th>SEG_SOCIAL</th>\n",
              "      <th>IDCLASADMI</th>\n",
              "      <th>EDAD_PADRE</th>\n",
              "      <th>NIV_EDUP</th>\n",
              "      <th>ULTCURPAD</th>\n",
              "      <th>PROFESION</th>\n",
              "    </tr>\n",
              "    <tr>\n",
              "      <th>COD_DPTO</th>\n",
              "      <th></th>\n",
              "      <th></th>\n",
              "      <th></th>\n",
              "      <th></th>\n",
              "      <th></th>\n",
              "      <th></th>\n",
              "      <th></th>\n",
              "      <th></th>\n",
              "      <th></th>\n",
              "      <th></th>\n",
              "      <th></th>\n",
              "      <th></th>\n",
              "      <th></th>\n",
              "      <th></th>\n",
              "      <th></th>\n",
              "      <th></th>\n",
              "      <th></th>\n",
              "      <th></th>\n",
              "      <th></th>\n",
              "      <th></th>\n",
              "      <th></th>\n",
              "    </tr>\n",
              "  </thead>\n",
              "  <tbody>\n",
              "    <tr>\n",
              "      <th>44</th>\n",
              "      <td>560</td>\n",
              "      <td>3</td>\n",
              "      <td>2</td>\n",
              "      <td>NaN</td>\n",
              "      <td>2</td>\n",
              "      <td>9</td>\n",
              "      <td>9</td>\n",
              "      <td>2020</td>\n",
              "      <td>11</td>\n",
              "      <td>5</td>\n",
              "      <td>...</td>\n",
              "      <td>3.0</td>\n",
              "      <td>1</td>\n",
              "      <td>NaN</td>\n",
              "      <td>1</td>\n",
              "      <td>2</td>\n",
              "      <td>2.0</td>\n",
              "      <td>20</td>\n",
              "      <td>99</td>\n",
              "      <td>99</td>\n",
              "      <td>5</td>\n",
              "    </tr>\n",
              "    <tr>\n",
              "      <th>44</th>\n",
              "      <td>560</td>\n",
              "      <td>3</td>\n",
              "      <td>2</td>\n",
              "      <td>NaN</td>\n",
              "      <td>1</td>\n",
              "      <td>9</td>\n",
              "      <td>9</td>\n",
              "      <td>2020</td>\n",
              "      <td>10</td>\n",
              "      <td>5</td>\n",
              "      <td>...</td>\n",
              "      <td>3.0</td>\n",
              "      <td>1</td>\n",
              "      <td>NaN</td>\n",
              "      <td>1</td>\n",
              "      <td>2</td>\n",
              "      <td>2.0</td>\n",
              "      <td>20</td>\n",
              "      <td>99</td>\n",
              "      <td>99</td>\n",
              "      <td>5</td>\n",
              "    </tr>\n",
              "    <tr>\n",
              "      <th>44</th>\n",
              "      <td>560</td>\n",
              "      <td>3</td>\n",
              "      <td>2</td>\n",
              "      <td>NaN</td>\n",
              "      <td>1</td>\n",
              "      <td>9</td>\n",
              "      <td>9</td>\n",
              "      <td>2020</td>\n",
              "      <td>10</td>\n",
              "      <td>5</td>\n",
              "      <td>...</td>\n",
              "      <td>3.0</td>\n",
              "      <td>1</td>\n",
              "      <td>NaN</td>\n",
              "      <td>1</td>\n",
              "      <td>2</td>\n",
              "      <td>2.0</td>\n",
              "      <td>20</td>\n",
              "      <td>99</td>\n",
              "      <td>99</td>\n",
              "      <td>5</td>\n",
              "    </tr>\n",
              "  </tbody>\n",
              "</table>\n",
              "<p>3 rows × 36 columns</p>\n",
              "</div>\n",
              "    <div class=\"colab-df-buttons\">\n",
              "\n",
              "  <div class=\"colab-df-container\">\n",
              "    <button class=\"colab-df-convert\" onclick=\"convertToInteractive('df-69d4a74d-7cfd-4425-9be8-d6e3955561b5')\"\n",
              "            title=\"Convert this dataframe to an interactive table.\"\n",
              "            style=\"display:none;\">\n",
              "\n",
              "  <svg xmlns=\"http://www.w3.org/2000/svg\" height=\"24px\" viewBox=\"0 -960 960 960\">\n",
              "    <path d=\"M120-120v-720h720v720H120Zm60-500h600v-160H180v160Zm220 220h160v-160H400v160Zm0 220h160v-160H400v160ZM180-400h160v-160H180v160Zm440 0h160v-160H620v160ZM180-180h160v-160H180v160Zm440 0h160v-160H620v160Z\"/>\n",
              "  </svg>\n",
              "    </button>\n",
              "\n",
              "  <style>\n",
              "    .colab-df-container {\n",
              "      display:flex;\n",
              "      gap: 12px;\n",
              "    }\n",
              "\n",
              "    .colab-df-convert {\n",
              "      background-color: #E8F0FE;\n",
              "      border: none;\n",
              "      border-radius: 50%;\n",
              "      cursor: pointer;\n",
              "      display: none;\n",
              "      fill: #1967D2;\n",
              "      height: 32px;\n",
              "      padding: 0 0 0 0;\n",
              "      width: 32px;\n",
              "    }\n",
              "\n",
              "    .colab-df-convert:hover {\n",
              "      background-color: #E2EBFA;\n",
              "      box-shadow: 0px 1px 2px rgba(60, 64, 67, 0.3), 0px 1px 3px 1px rgba(60, 64, 67, 0.15);\n",
              "      fill: #174EA6;\n",
              "    }\n",
              "\n",
              "    .colab-df-buttons div {\n",
              "      margin-bottom: 4px;\n",
              "    }\n",
              "\n",
              "    [theme=dark] .colab-df-convert {\n",
              "      background-color: #3B4455;\n",
              "      fill: #D2E3FC;\n",
              "    }\n",
              "\n",
              "    [theme=dark] .colab-df-convert:hover {\n",
              "      background-color: #434B5C;\n",
              "      box-shadow: 0px 1px 3px 1px rgba(0, 0, 0, 0.15);\n",
              "      filter: drop-shadow(0px 1px 2px rgba(0, 0, 0, 0.3));\n",
              "      fill: #FFFFFF;\n",
              "    }\n",
              "  </style>\n",
              "\n",
              "    <script>\n",
              "      const buttonEl =\n",
              "        document.querySelector('#df-69d4a74d-7cfd-4425-9be8-d6e3955561b5 button.colab-df-convert');\n",
              "      buttonEl.style.display =\n",
              "        google.colab.kernel.accessAllowed ? 'block' : 'none';\n",
              "\n",
              "      async function convertToInteractive(key) {\n",
              "        const element = document.querySelector('#df-69d4a74d-7cfd-4425-9be8-d6e3955561b5');\n",
              "        const dataTable =\n",
              "          await google.colab.kernel.invokeFunction('convertToInteractive',\n",
              "                                                    [key], {});\n",
              "        if (!dataTable) return;\n",
              "\n",
              "        const docLinkHtml = 'Like what you see? Visit the ' +\n",
              "          '<a target=\"_blank\" href=https://colab.research.google.com/notebooks/data_table.ipynb>data table notebook</a>'\n",
              "          + ' to learn more about interactive tables.';\n",
              "        element.innerHTML = '';\n",
              "        dataTable['output_type'] = 'display_data';\n",
              "        await google.colab.output.renderOutput(dataTable, element);\n",
              "        const docLink = document.createElement('div');\n",
              "        docLink.innerHTML = docLinkHtml;\n",
              "        element.appendChild(docLink);\n",
              "      }\n",
              "    </script>\n",
              "  </div>\n",
              "\n",
              "\n",
              "    <div id=\"df-6f9924e7-f24c-4dcd-b353-ef327fc46d85\">\n",
              "      <button class=\"colab-df-quickchart\" onclick=\"quickchart('df-6f9924e7-f24c-4dcd-b353-ef327fc46d85')\"\n",
              "                title=\"Suggest charts\"\n",
              "                style=\"display:none;\">\n",
              "\n",
              "<svg xmlns=\"http://www.w3.org/2000/svg\" height=\"24px\"viewBox=\"0 0 24 24\"\n",
              "     width=\"24px\">\n",
              "    <g>\n",
              "        <path d=\"M19 3H5c-1.1 0-2 .9-2 2v14c0 1.1.9 2 2 2h14c1.1 0 2-.9 2-2V5c0-1.1-.9-2-2-2zM9 17H7v-7h2v7zm4 0h-2V7h2v10zm4 0h-2v-4h2v4z\"/>\n",
              "    </g>\n",
              "</svg>\n",
              "      </button>\n",
              "\n",
              "<style>\n",
              "  .colab-df-quickchart {\n",
              "      --bg-color: #E8F0FE;\n",
              "      --fill-color: #1967D2;\n",
              "      --hover-bg-color: #E2EBFA;\n",
              "      --hover-fill-color: #174EA6;\n",
              "      --disabled-fill-color: #AAA;\n",
              "      --disabled-bg-color: #DDD;\n",
              "  }\n",
              "\n",
              "  [theme=dark] .colab-df-quickchart {\n",
              "      --bg-color: #3B4455;\n",
              "      --fill-color: #D2E3FC;\n",
              "      --hover-bg-color: #434B5C;\n",
              "      --hover-fill-color: #FFFFFF;\n",
              "      --disabled-bg-color: #3B4455;\n",
              "      --disabled-fill-color: #666;\n",
              "  }\n",
              "\n",
              "  .colab-df-quickchart {\n",
              "    background-color: var(--bg-color);\n",
              "    border: none;\n",
              "    border-radius: 50%;\n",
              "    cursor: pointer;\n",
              "    display: none;\n",
              "    fill: var(--fill-color);\n",
              "    height: 32px;\n",
              "    padding: 0;\n",
              "    width: 32px;\n",
              "  }\n",
              "\n",
              "  .colab-df-quickchart:hover {\n",
              "    background-color: var(--hover-bg-color);\n",
              "    box-shadow: 0 1px 2px rgba(60, 64, 67, 0.3), 0 1px 3px 1px rgba(60, 64, 67, 0.15);\n",
              "    fill: var(--button-hover-fill-color);\n",
              "  }\n",
              "\n",
              "  .colab-df-quickchart-complete:disabled,\n",
              "  .colab-df-quickchart-complete:disabled:hover {\n",
              "    background-color: var(--disabled-bg-color);\n",
              "    fill: var(--disabled-fill-color);\n",
              "    box-shadow: none;\n",
              "  }\n",
              "\n",
              "  .colab-df-spinner {\n",
              "    border: 2px solid var(--fill-color);\n",
              "    border-color: transparent;\n",
              "    border-bottom-color: var(--fill-color);\n",
              "    animation:\n",
              "      spin 1s steps(1) infinite;\n",
              "  }\n",
              "\n",
              "  @keyframes spin {\n",
              "    0% {\n",
              "      border-color: transparent;\n",
              "      border-bottom-color: var(--fill-color);\n",
              "      border-left-color: var(--fill-color);\n",
              "    }\n",
              "    20% {\n",
              "      border-color: transparent;\n",
              "      border-left-color: var(--fill-color);\n",
              "      border-top-color: var(--fill-color);\n",
              "    }\n",
              "    30% {\n",
              "      border-color: transparent;\n",
              "      border-left-color: var(--fill-color);\n",
              "      border-top-color: var(--fill-color);\n",
              "      border-right-color: var(--fill-color);\n",
              "    }\n",
              "    40% {\n",
              "      border-color: transparent;\n",
              "      border-right-color: var(--fill-color);\n",
              "      border-top-color: var(--fill-color);\n",
              "    }\n",
              "    60% {\n",
              "      border-color: transparent;\n",
              "      border-right-color: var(--fill-color);\n",
              "    }\n",
              "    80% {\n",
              "      border-color: transparent;\n",
              "      border-right-color: var(--fill-color);\n",
              "      border-bottom-color: var(--fill-color);\n",
              "    }\n",
              "    90% {\n",
              "      border-color: transparent;\n",
              "      border-bottom-color: var(--fill-color);\n",
              "    }\n",
              "  }\n",
              "</style>\n",
              "\n",
              "      <script>\n",
              "        async function quickchart(key) {\n",
              "          const quickchartButtonEl =\n",
              "            document.querySelector('#' + key + ' button');\n",
              "          quickchartButtonEl.disabled = true;  // To prevent multiple clicks.\n",
              "          quickchartButtonEl.classList.add('colab-df-spinner');\n",
              "          try {\n",
              "            const charts = await google.colab.kernel.invokeFunction(\n",
              "                'suggestCharts', [key], {});\n",
              "          } catch (error) {\n",
              "            console.error('Error during call to suggestCharts:', error);\n",
              "          }\n",
              "          quickchartButtonEl.classList.remove('colab-df-spinner');\n",
              "          quickchartButtonEl.classList.add('colab-df-quickchart-complete');\n",
              "        }\n",
              "        (() => {\n",
              "          let quickchartButtonEl =\n",
              "            document.querySelector('#df-6f9924e7-f24c-4dcd-b353-ef327fc46d85 button');\n",
              "          quickchartButtonEl.style.display =\n",
              "            google.colab.kernel.accessAllowed ? 'block' : 'none';\n",
              "        })();\n",
              "      </script>\n",
              "    </div>\n",
              "\n",
              "    </div>\n",
              "  </div>\n"
            ],
            "application/vnd.google.colaboratory.intrinsic+json": {
              "type": "dataframe",
              "variable_name": "tabla"
            }
          },
          "metadata": {},
          "execution_count": 5
        }
      ]
    },
    {
      "cell_type": "markdown",
      "source": [
        "En este bloque se realiza la lectura de la base de datos:\n",
        "\n",
        "* **io.BytesIO(uploaded['nac2020.csv'])** convierte el archivo cargado en un objeto de tipo binario para que pueda ser leído como un archivo normal.\n",
        "* **pd.read_csv(...)** usa la función de pandas para leer el archivo CSV, separando los datos por comas (sep=\",\"), utilizando la primera columna como índice (index_col=0) y estableciendo la codificación en latin-1 para reconocer correctamente los caracteres especiales.\n",
        "* **tabla.head(3)** muestra las primeras tres filas del conjunto de datos, para verificar que la carga fue exitosa."
      ],
      "metadata": {
        "id": "WVLL04AEvd8X"
      }
    },
    {
      "cell_type": "code",
      "source": [
        "df = tabla[[\"EDAD_PADRE\", \"N_EMB\"]]\n",
        "df.head(3)\n"
      ],
      "metadata": {
        "colab": {
          "base_uri": "https://localhost:8080/",
          "height": 175
        },
        "id": "rdMTWy9Nu-_f",
        "outputId": "8f081f68-1b85-4e16-ed8a-b9c49fb1d4d1"
      },
      "execution_count": 6,
      "outputs": [
        {
          "output_type": "execute_result",
          "data": {
            "text/plain": [
              "          EDAD_PADRE  N_EMB\n",
              "COD_DPTO                   \n",
              "44                20      1\n",
              "44                20      1\n",
              "44                20      1"
            ],
            "text/html": [
              "\n",
              "  <div id=\"df-3075ddd4-9d07-486d-9cdb-302fc951cec3\" class=\"colab-df-container\">\n",
              "    <div>\n",
              "<style scoped>\n",
              "    .dataframe tbody tr th:only-of-type {\n",
              "        vertical-align: middle;\n",
              "    }\n",
              "\n",
              "    .dataframe tbody tr th {\n",
              "        vertical-align: top;\n",
              "    }\n",
              "\n",
              "    .dataframe thead th {\n",
              "        text-align: right;\n",
              "    }\n",
              "</style>\n",
              "<table border=\"1\" class=\"dataframe\">\n",
              "  <thead>\n",
              "    <tr style=\"text-align: right;\">\n",
              "      <th></th>\n",
              "      <th>EDAD_PADRE</th>\n",
              "      <th>N_EMB</th>\n",
              "    </tr>\n",
              "    <tr>\n",
              "      <th>COD_DPTO</th>\n",
              "      <th></th>\n",
              "      <th></th>\n",
              "    </tr>\n",
              "  </thead>\n",
              "  <tbody>\n",
              "    <tr>\n",
              "      <th>44</th>\n",
              "      <td>20</td>\n",
              "      <td>1</td>\n",
              "    </tr>\n",
              "    <tr>\n",
              "      <th>44</th>\n",
              "      <td>20</td>\n",
              "      <td>1</td>\n",
              "    </tr>\n",
              "    <tr>\n",
              "      <th>44</th>\n",
              "      <td>20</td>\n",
              "      <td>1</td>\n",
              "    </tr>\n",
              "  </tbody>\n",
              "</table>\n",
              "</div>\n",
              "    <div class=\"colab-df-buttons\">\n",
              "\n",
              "  <div class=\"colab-df-container\">\n",
              "    <button class=\"colab-df-convert\" onclick=\"convertToInteractive('df-3075ddd4-9d07-486d-9cdb-302fc951cec3')\"\n",
              "            title=\"Convert this dataframe to an interactive table.\"\n",
              "            style=\"display:none;\">\n",
              "\n",
              "  <svg xmlns=\"http://www.w3.org/2000/svg\" height=\"24px\" viewBox=\"0 -960 960 960\">\n",
              "    <path d=\"M120-120v-720h720v720H120Zm60-500h600v-160H180v160Zm220 220h160v-160H400v160Zm0 220h160v-160H400v160ZM180-400h160v-160H180v160Zm440 0h160v-160H620v160ZM180-180h160v-160H180v160Zm440 0h160v-160H620v160Z\"/>\n",
              "  </svg>\n",
              "    </button>\n",
              "\n",
              "  <style>\n",
              "    .colab-df-container {\n",
              "      display:flex;\n",
              "      gap: 12px;\n",
              "    }\n",
              "\n",
              "    .colab-df-convert {\n",
              "      background-color: #E8F0FE;\n",
              "      border: none;\n",
              "      border-radius: 50%;\n",
              "      cursor: pointer;\n",
              "      display: none;\n",
              "      fill: #1967D2;\n",
              "      height: 32px;\n",
              "      padding: 0 0 0 0;\n",
              "      width: 32px;\n",
              "    }\n",
              "\n",
              "    .colab-df-convert:hover {\n",
              "      background-color: #E2EBFA;\n",
              "      box-shadow: 0px 1px 2px rgba(60, 64, 67, 0.3), 0px 1px 3px 1px rgba(60, 64, 67, 0.15);\n",
              "      fill: #174EA6;\n",
              "    }\n",
              "\n",
              "    .colab-df-buttons div {\n",
              "      margin-bottom: 4px;\n",
              "    }\n",
              "\n",
              "    [theme=dark] .colab-df-convert {\n",
              "      background-color: #3B4455;\n",
              "      fill: #D2E3FC;\n",
              "    }\n",
              "\n",
              "    [theme=dark] .colab-df-convert:hover {\n",
              "      background-color: #434B5C;\n",
              "      box-shadow: 0px 1px 3px 1px rgba(0, 0, 0, 0.15);\n",
              "      filter: drop-shadow(0px 1px 2px rgba(0, 0, 0, 0.3));\n",
              "      fill: #FFFFFF;\n",
              "    }\n",
              "  </style>\n",
              "\n",
              "    <script>\n",
              "      const buttonEl =\n",
              "        document.querySelector('#df-3075ddd4-9d07-486d-9cdb-302fc951cec3 button.colab-df-convert');\n",
              "      buttonEl.style.display =\n",
              "        google.colab.kernel.accessAllowed ? 'block' : 'none';\n",
              "\n",
              "      async function convertToInteractive(key) {\n",
              "        const element = document.querySelector('#df-3075ddd4-9d07-486d-9cdb-302fc951cec3');\n",
              "        const dataTable =\n",
              "          await google.colab.kernel.invokeFunction('convertToInteractive',\n",
              "                                                    [key], {});\n",
              "        if (!dataTable) return;\n",
              "\n",
              "        const docLinkHtml = 'Like what you see? Visit the ' +\n",
              "          '<a target=\"_blank\" href=https://colab.research.google.com/notebooks/data_table.ipynb>data table notebook</a>'\n",
              "          + ' to learn more about interactive tables.';\n",
              "        element.innerHTML = '';\n",
              "        dataTable['output_type'] = 'display_data';\n",
              "        await google.colab.output.renderOutput(dataTable, element);\n",
              "        const docLink = document.createElement('div');\n",
              "        docLink.innerHTML = docLinkHtml;\n",
              "        element.appendChild(docLink);\n",
              "      }\n",
              "    </script>\n",
              "  </div>\n",
              "\n",
              "\n",
              "    <div id=\"df-e10b9d34-2989-41da-8659-38f34d035fb3\">\n",
              "      <button class=\"colab-df-quickchart\" onclick=\"quickchart('df-e10b9d34-2989-41da-8659-38f34d035fb3')\"\n",
              "                title=\"Suggest charts\"\n",
              "                style=\"display:none;\">\n",
              "\n",
              "<svg xmlns=\"http://www.w3.org/2000/svg\" height=\"24px\"viewBox=\"0 0 24 24\"\n",
              "     width=\"24px\">\n",
              "    <g>\n",
              "        <path d=\"M19 3H5c-1.1 0-2 .9-2 2v14c0 1.1.9 2 2 2h14c1.1 0 2-.9 2-2V5c0-1.1-.9-2-2-2zM9 17H7v-7h2v7zm4 0h-2V7h2v10zm4 0h-2v-4h2v4z\"/>\n",
              "    </g>\n",
              "</svg>\n",
              "      </button>\n",
              "\n",
              "<style>\n",
              "  .colab-df-quickchart {\n",
              "      --bg-color: #E8F0FE;\n",
              "      --fill-color: #1967D2;\n",
              "      --hover-bg-color: #E2EBFA;\n",
              "      --hover-fill-color: #174EA6;\n",
              "      --disabled-fill-color: #AAA;\n",
              "      --disabled-bg-color: #DDD;\n",
              "  }\n",
              "\n",
              "  [theme=dark] .colab-df-quickchart {\n",
              "      --bg-color: #3B4455;\n",
              "      --fill-color: #D2E3FC;\n",
              "      --hover-bg-color: #434B5C;\n",
              "      --hover-fill-color: #FFFFFF;\n",
              "      --disabled-bg-color: #3B4455;\n",
              "      --disabled-fill-color: #666;\n",
              "  }\n",
              "\n",
              "  .colab-df-quickchart {\n",
              "    background-color: var(--bg-color);\n",
              "    border: none;\n",
              "    border-radius: 50%;\n",
              "    cursor: pointer;\n",
              "    display: none;\n",
              "    fill: var(--fill-color);\n",
              "    height: 32px;\n",
              "    padding: 0;\n",
              "    width: 32px;\n",
              "  }\n",
              "\n",
              "  .colab-df-quickchart:hover {\n",
              "    background-color: var(--hover-bg-color);\n",
              "    box-shadow: 0 1px 2px rgba(60, 64, 67, 0.3), 0 1px 3px 1px rgba(60, 64, 67, 0.15);\n",
              "    fill: var(--button-hover-fill-color);\n",
              "  }\n",
              "\n",
              "  .colab-df-quickchart-complete:disabled,\n",
              "  .colab-df-quickchart-complete:disabled:hover {\n",
              "    background-color: var(--disabled-bg-color);\n",
              "    fill: var(--disabled-fill-color);\n",
              "    box-shadow: none;\n",
              "  }\n",
              "\n",
              "  .colab-df-spinner {\n",
              "    border: 2px solid var(--fill-color);\n",
              "    border-color: transparent;\n",
              "    border-bottom-color: var(--fill-color);\n",
              "    animation:\n",
              "      spin 1s steps(1) infinite;\n",
              "  }\n",
              "\n",
              "  @keyframes spin {\n",
              "    0% {\n",
              "      border-color: transparent;\n",
              "      border-bottom-color: var(--fill-color);\n",
              "      border-left-color: var(--fill-color);\n",
              "    }\n",
              "    20% {\n",
              "      border-color: transparent;\n",
              "      border-left-color: var(--fill-color);\n",
              "      border-top-color: var(--fill-color);\n",
              "    }\n",
              "    30% {\n",
              "      border-color: transparent;\n",
              "      border-left-color: var(--fill-color);\n",
              "      border-top-color: var(--fill-color);\n",
              "      border-right-color: var(--fill-color);\n",
              "    }\n",
              "    40% {\n",
              "      border-color: transparent;\n",
              "      border-right-color: var(--fill-color);\n",
              "      border-top-color: var(--fill-color);\n",
              "    }\n",
              "    60% {\n",
              "      border-color: transparent;\n",
              "      border-right-color: var(--fill-color);\n",
              "    }\n",
              "    80% {\n",
              "      border-color: transparent;\n",
              "      border-right-color: var(--fill-color);\n",
              "      border-bottom-color: var(--fill-color);\n",
              "    }\n",
              "    90% {\n",
              "      border-color: transparent;\n",
              "      border-bottom-color: var(--fill-color);\n",
              "    }\n",
              "  }\n",
              "</style>\n",
              "\n",
              "      <script>\n",
              "        async function quickchart(key) {\n",
              "          const quickchartButtonEl =\n",
              "            document.querySelector('#' + key + ' button');\n",
              "          quickchartButtonEl.disabled = true;  // To prevent multiple clicks.\n",
              "          quickchartButtonEl.classList.add('colab-df-spinner');\n",
              "          try {\n",
              "            const charts = await google.colab.kernel.invokeFunction(\n",
              "                'suggestCharts', [key], {});\n",
              "          } catch (error) {\n",
              "            console.error('Error during call to suggestCharts:', error);\n",
              "          }\n",
              "          quickchartButtonEl.classList.remove('colab-df-spinner');\n",
              "          quickchartButtonEl.classList.add('colab-df-quickchart-complete');\n",
              "        }\n",
              "        (() => {\n",
              "          let quickchartButtonEl =\n",
              "            document.querySelector('#df-e10b9d34-2989-41da-8659-38f34d035fb3 button');\n",
              "          quickchartButtonEl.style.display =\n",
              "            google.colab.kernel.accessAllowed ? 'block' : 'none';\n",
              "        })();\n",
              "      </script>\n",
              "    </div>\n",
              "\n",
              "    </div>\n",
              "  </div>\n"
            ],
            "application/vnd.google.colaboratory.intrinsic+json": {
              "type": "dataframe",
              "variable_name": "df"
            }
          },
          "metadata": {},
          "execution_count": 6
        }
      ]
    },
    {
      "cell_type": "markdown",
      "source": [
        "En este bloque se crea un nuevo *DataFrame* llamado **df** que contiene únicamente las columnas necesarias para el análisis: *EDAD_PADRE* (edad del padre) y *N_EMB* (número de embarazos, incluyendo el actual). Luego, se visualizan las primeras tres filas del nuevo DataFrame para confirmar que la selección fue correcta."
      ],
      "metadata": {
        "id": "pyXx0XYQwBtX"
      }
    },
    {
      "cell_type": "code",
      "source": [
        "intervalos = range(min(df.EDAD_PADRE), max(df.EDAD_PADRE) + 1, 5)\n",
        "plt.hist(df.EDAD_PADRE, bins=intervalos, color=\"purple\", rwidth=0.85)\n",
        "plt.title(\"Histograma de edad del padre\")\n",
        "plt.xlabel(\"Edad (años)\")\n",
        "plt.ylabel(\"Frecuencia\")\n",
        "plt.xticks(intervalos)\n",
        "plt.show()\n"
      ],
      "metadata": {
        "colab": {
          "base_uri": "https://localhost:8080/",
          "height": 472
        },
        "id": "lRtlP0OZwD21",
        "outputId": "ddc5f5db-c64f-4582-c57a-335ffa8624fc"
      },
      "execution_count": 7,
      "outputs": [
        {
          "output_type": "display_data",
          "data": {
            "text/plain": [
              "<Figure size 640x480 with 1 Axes>"
            ],
            "image/png": "[encoded data removed]"
          },
          "metadata": {}
        }
      ]
    },
    {
      "cell_type": "markdown",
      "source": [
        "En este bloque se construye el histograma de la variable *EDAD_PADRE*:\n",
        "\n",
        "* Se crean los intervalos del histograma usando *range()*, desde el valor mínimo hasta el valor máximo de las edades, en pasos de 5 años.\n",
        "\n",
        "* Se grafica el histograma usando *plt.hist()*, estableciendo el color morado (\"purple\") y ajustando el ancho de las barras *(rwidth=0.85)*.\n",
        "\n",
        "* Se agregan el título del gráfico, las etiquetas de los ejes (edad y frecuencia) y se configuran las marcas del eje *x* (xticks) para que coincidan con los intervalos.\n",
        "\n",
        "* Finalmente, *plt.show()* muestra el gráfico.\n",
        "\n",
        "Este histograma permite visualizar cómo se distribuyen las edades de los padres de recién nacidos en Colombia."
      ],
      "metadata": {
        "id": "pyecJ5HvwUg3"
      }
    },
    {
      "cell_type": "code",
      "source": [
        "intervalos = range(min(df.N_EMB), max(df.N_EMB) + 1, 5)\n",
        "plt.hist(df.N_EMB, bins=intervalos, color=\"blue\", rwidth=0.85)\n",
        "plt.title(\"Histograma de número de embarazos\")\n",
        "plt.xlabel(\"Número de embarazos\")\n",
        "plt.ylabel(\"Frecuencia\")\n",
        "plt.xticks(intervalos)\n",
        "plt.show()\n"
      ],
      "metadata": {
        "colab": {
          "base_uri": "https://localhost:8080/",
          "height": 472
        },
        "outputId": "9f87e9f5-46b9-4afd-a8ce-32adb25a9bef",
        "id": "PgYOUssEewDg"
      },
      "execution_count": 8,
      "outputs": [
        {
          "output_type": "display_data",
          "data": {
            "text/plain": [
              "<Figure size 640x480 with 1 Axes>"
            ],
            "image/png": "[encoded data removed]"
          },
          "metadata": {}
        }
      ]
    },
    {
      "cell_type": "markdown",
      "source": [
        "En este bloque se construye el histograma de la variable *N_EMB* (número de embarazos):\n",
        "\n",
        "* Se crean los intervalos usando *range()*, desde el valor mínimo hasta el valor máximo de embarazos, en pasos de 5 unidades.\n",
        "\n",
        "* Se grafica el histograma usando *plt.hist()*, eligiendo el color azul (\"blue\") y ajustando el ancho de las barras (rwidth=0.85).\n",
        "\n",
        "* Se agregan el título del gráfico y las etiquetas correctas para los ejes: número de embarazos en el *eje X* y frecuencia en el *eje Y*.\n",
        "\n",
        "* *plt.show()* muestra el gráfico.\n",
        "\n",
        "Este histograma permite visualizar la distribución de la cantidad de embarazos registrados en el dataset."
      ],
      "metadata": {
        "id": "mTBPue70xL88"
      }
    },
    {
      "cell_type": "code",
      "source": [
        "df1 = df[(df.EDAD_PADRE < 120) & (df.N_EMB < 99)]\n",
        "df1.head(5)\n"
      ],
      "metadata": {
        "colab": {
          "base_uri": "https://localhost:8080/",
          "height": 238
        },
        "id": "QlVdB2JoydTg",
        "outputId": "15d8cda4-19de-460e-df22-18d6b977c3d6"
      },
      "execution_count": 9,
      "outputs": [
        {
          "output_type": "execute_result",
          "data": {
            "text/plain": [
              "          EDAD_PADRE  N_EMB\n",
              "COD_DPTO                   \n",
              "44                20      1\n",
              "44                20      1\n",
              "44                20      1\n",
              "44                20      1\n",
              "44                20      1"
            ],
            "text/html": [
              "\n",
              "  <div id=\"df-f0966d3c-63f8-4f3e-beea-c7f5c0a2d8cf\" class=\"colab-df-container\">\n",
              "    <div>\n",
              "<style scoped>\n",
              "    .dataframe tbody tr th:only-of-type {\n",
              "        vertical-align: middle;\n",
              "    }\n",
              "\n",
              "    .dataframe tbody tr th {\n",
              "        vertical-align: top;\n",
              "    }\n",
              "\n",
              "    .dataframe thead th {\n",
              "        text-align: right;\n",
              "    }\n",
              "</style>\n",
              "<table border=\"1\" class=\"dataframe\">\n",
              "  <thead>\n",
              "    <tr style=\"text-align: right;\">\n",
              "      <th></th>\n",
              "      <th>EDAD_PADRE</th>\n",
              "      <th>N_EMB</th>\n",
              "    </tr>\n",
              "    <tr>\n",
              "      <th>COD_DPTO</th>\n",
              "      <th></th>\n",
              "      <th></th>\n",
              "    </tr>\n",
              "  </thead>\n",
              "  <tbody>\n",
              "    <tr>\n",
              "      <th>44</th>\n",
              "      <td>20</td>\n",
              "      <td>1</td>\n",
              "    </tr>\n",
              "    <tr>\n",
              "      <th>44</th>\n",
              "      <td>20</td>\n",
              "      <td>1</td>\n",
              "    </tr>\n",
              "    <tr>\n",
              "      <th>44</th>\n",
              "      <td>20</td>\n",
              "      <td>1</td>\n",
              "    </tr>\n",
              "    <tr>\n",
              "      <th>44</th>\n",
              "      <td>20</td>\n",
              "      <td>1</td>\n",
              "    </tr>\n",
              "    <tr>\n",
              "      <th>44</th>\n",
              "      <td>20</td>\n",
              "      <td>1</td>\n",
              "    </tr>\n",
              "  </tbody>\n",
              "</table>\n",
              "</div>\n",
              "    <div class=\"colab-df-buttons\">\n",
              "\n",
              "  <div class=\"colab-df-container\">\n",
              "    <button class=\"colab-df-convert\" onclick=\"convertToInteractive('df-f0966d3c-63f8-4f3e-beea-c7f5c0a2d8cf')\"\n",
              "            title=\"Convert this dataframe to an interactive table.\"\n",
              "            style=\"display:none;\">\n",
              "\n",
              "  <svg xmlns=\"http://www.w3.org/2000/svg\" height=\"24px\" viewBox=\"0 -960 960 960\">\n",
              "    <path d=\"M120-120v-720h720v720H120Zm60-500h600v-160H180v160Zm220 220h160v-160H400v160Zm0 220h160v-160H400v160ZM180-400h160v-160H180v160Zm440 0h160v-160H620v160ZM180-180h160v-160H180v160Zm440 0h160v-160H620v160Z\"/>\n",
              "  </svg>\n",
              "    </button>\n",
              "\n",
              "  <style>\n",
              "    .colab-df-container {\n",
              "      display:flex;\n",
              "      gap: 12px;\n",
              "    }\n",
              "\n",
              "    .colab-df-convert {\n",
              "      background-color: #E8F0FE;\n",
              "      border: none;\n",
              "      border-radius: 50%;\n",
              "      cursor: pointer;\n",
              "      display: none;\n",
              "      fill: #1967D2;\n",
              "      height: 32px;\n",
              "      padding: 0 0 0 0;\n",
              "      width: 32px;\n",
              "    }\n",
              "\n",
              "    .colab-df-convert:hover {\n",
              "      background-color: #E2EBFA;\n",
              "      box-shadow: 0px 1px 2px rgba(60, 64, 67, 0.3), 0px 1px 3px 1px rgba(60, 64, 67, 0.15);\n",
              "      fill: #174EA6;\n",
              "    }\n",
              "\n",
              "    .colab-df-buttons div {\n",
              "      margin-bottom: 4px;\n",
              "    }\n",
              "\n",
              "    [theme=dark] .colab-df-convert {\n",
              "      background-color: #3B4455;\n",
              "      fill: #D2E3FC;\n",
              "    }\n",
              "\n",
              "    [theme=dark] .colab-df-convert:hover {\n",
              "      background-color: #434B5C;\n",
              "      box-shadow: 0px 1px 3px 1px rgba(0, 0, 0, 0.15);\n",
              "      filter: drop-shadow(0px 1px 2px rgba(0, 0, 0, 0.3));\n",
              "      fill: #FFFFFF;\n",
              "    }\n",
              "  </style>\n",
              "\n",
              "    <script>\n",
              "      const buttonEl =\n",
              "        document.querySelector('#df-f0966d3c-63f8-4f3e-beea-c7f5c0a2d8cf button.colab-df-convert');\n",
              "      buttonEl.style.display =\n",
              "        google.colab.kernel.accessAllowed ? 'block' : 'none';\n",
              "\n",
              "      async function convertToInteractive(key) {\n",
              "        const element = document.querySelector('#df-f0966d3c-63f8-4f3e-beea-c7f5c0a2d8cf');\n",
              "        const dataTable =\n",
              "          await google.colab.kernel.invokeFunction('convertToInteractive',\n",
              "                                                    [key], {});\n",
              "        if (!dataTable) return;\n",
              "\n",
              "        const docLinkHtml = 'Like what you see? Visit the ' +\n",
              "          '<a target=\"_blank\" href=https://colab.research.google.com/notebooks/data_table.ipynb>data table notebook</a>'\n",
              "          + ' to learn more about interactive tables.';\n",
              "        element.innerHTML = '';\n",
              "        dataTable['output_type'] = 'display_data';\n",
              "        await google.colab.output.renderOutput(dataTable, element);\n",
              "        const docLink = document.createElement('div');\n",
              "        docLink.innerHTML = docLinkHtml;\n",
              "        element.appendChild(docLink);\n",
              "      }\n",
              "    </script>\n",
              "  </div>\n",
              "\n",
              "\n",
              "    <div id=\"df-ca88fe7f-67d0-4137-a1f8-508f474be9f5\">\n",
              "      <button class=\"colab-df-quickchart\" onclick=\"quickchart('df-ca88fe7f-67d0-4137-a1f8-508f474be9f5')\"\n",
              "                title=\"Suggest charts\"\n",
              "                style=\"display:none;\">\n",
              "\n",
              "<svg xmlns=\"http://www.w3.org/2000/svg\" height=\"24px\"viewBox=\"0 0 24 24\"\n",
              "     width=\"24px\">\n",
              "    <g>\n",
              "        <path d=\"M19 3H5c-1.1 0-2 .9-2 2v14c0 1.1.9 2 2 2h14c1.1 0 2-.9 2-2V5c0-1.1-.9-2-2-2zM9 17H7v-7h2v7zm4 0h-2V7h2v10zm4 0h-2v-4h2v4z\"/>\n",
              "    </g>\n",
              "</svg>\n",
              "      </button>\n",
              "\n",
              "<style>\n",
              "  .colab-df-quickchart {\n",
              "      --bg-color: #E8F0FE;\n",
              "      --fill-color: #1967D2;\n",
              "      --hover-bg-color: #E2EBFA;\n",
              "      --hover-fill-color: #174EA6;\n",
              "      --disabled-fill-color: #AAA;\n",
              "      --disabled-bg-color: #DDD;\n",
              "  }\n",
              "\n",
              "  [theme=dark] .colab-df-quickchart {\n",
              "      --bg-color: #3B4455;\n",
              "      --fill-color: #D2E3FC;\n",
              "      --hover-bg-color: #434B5C;\n",
              "      --hover-fill-color: #FFFFFF;\n",
              "      --disabled-bg-color: #3B4455;\n",
              "      --disabled-fill-color: #666;\n",
              "  }\n",
              "\n",
              "  .colab-df-quickchart {\n",
              "    background-color: var(--bg-color);\n",
              "    border: none;\n",
              "    border-radius: 50%;\n",
              "    cursor: pointer;\n",
              "    display: none;\n",
              "    fill: var(--fill-color);\n",
              "    height: 32px;\n",
              "    padding: 0;\n",
              "    width: 32px;\n",
              "  }\n",
              "\n",
              "  .colab-df-quickchart:hover {\n",
              "    background-color: var(--hover-bg-color);\n",
              "    box-shadow: 0 1px 2px rgba(60, 64, 67, 0.3), 0 1px 3px 1px rgba(60, 64, 67, 0.15);\n",
              "    fill: var(--button-hover-fill-color);\n",
              "  }\n",
              "\n",
              "  .colab-df-quickchart-complete:disabled,\n",
              "  .colab-df-quickchart-complete:disabled:hover {\n",
              "    background-color: var(--disabled-bg-color);\n",
              "    fill: var(--disabled-fill-color);\n",
              "    box-shadow: none;\n",
              "  }\n",
              "\n",
              "  .colab-df-spinner {\n",
              "    border: 2px solid var(--fill-color);\n",
              "    border-color: transparent;\n",
              "    border-bottom-color: var(--fill-color);\n",
              "    animation:\n",
              "      spin 1s steps(1) infinite;\n",
              "  }\n",
              "\n",
              "  @keyframes spin {\n",
              "    0% {\n",
              "      border-color: transparent;\n",
              "      border-bottom-color: var(--fill-color);\n",
              "      border-left-color: var(--fill-color);\n",
              "    }\n",
              "    20% {\n",
              "      border-color: transparent;\n",
              "      border-left-color: var(--fill-color);\n",
              "      border-top-color: var(--fill-color);\n",
              "    }\n",
              "    30% {\n",
              "      border-color: transparent;\n",
              "      border-left-color: var(--fill-color);\n",
              "      border-top-color: var(--fill-color);\n",
              "      border-right-color: var(--fill-color);\n",
              "    }\n",
              "    40% {\n",
              "      border-color: transparent;\n",
              "      border-right-color: var(--fill-color);\n",
              "      border-top-color: var(--fill-color);\n",
              "    }\n",
              "    60% {\n",
              "      border-color: transparent;\n",
              "      border-right-color: var(--fill-color);\n",
              "    }\n",
              "    80% {\n",
              "      border-color: transparent;\n",
              "      border-right-color: var(--fill-color);\n",
              "      border-bottom-color: var(--fill-color);\n",
              "    }\n",
              "    90% {\n",
              "      border-color: transparent;\n",
              "      border-bottom-color: var(--fill-color);\n",
              "    }\n",
              "  }\n",
              "</style>\n",
              "\n",
              "      <script>\n",
              "        async function quickchart(key) {\n",
              "          const quickchartButtonEl =\n",
              "            document.querySelector('#' + key + ' button');\n",
              "          quickchartButtonEl.disabled = true;  // To prevent multiple clicks.\n",
              "          quickchartButtonEl.classList.add('colab-df-spinner');\n",
              "          try {\n",
              "            const charts = await google.colab.kernel.invokeFunction(\n",
              "                'suggestCharts', [key], {});\n",
              "          } catch (error) {\n",
              "            console.error('Error during call to suggestCharts:', error);\n",
              "          }\n",
              "          quickchartButtonEl.classList.remove('colab-df-spinner');\n",
              "          quickchartButtonEl.classList.add('colab-df-quickchart-complete');\n",
              "        }\n",
              "        (() => {\n",
              "          let quickchartButtonEl =\n",
              "            document.querySelector('#df-ca88fe7f-67d0-4137-a1f8-508f474be9f5 button');\n",
              "          quickchartButtonEl.style.display =\n",
              "            google.colab.kernel.accessAllowed ? 'block' : 'none';\n",
              "        })();\n",
              "      </script>\n",
              "    </div>\n",
              "\n",
              "    </div>\n",
              "  </div>\n"
            ],
            "application/vnd.google.colaboratory.intrinsic+json": {
              "type": "dataframe",
              "variable_name": "df1"
            }
          },
          "metadata": {},
          "execution_count": 9
        }
      ]
    },
    {
      "cell_type": "markdown",
      "source": [
        "En este bloque se realiza una limpieza de datos atípicos:\n",
        "\n",
        "* Se crea un nuevo *DataFrame* llamado **df1** que filtra los datos para excluir valores extremos en las variables:\n",
        "\n",
        "  * *EDAD_PADRE < 120*: se descartan registros donde el padre tenga una edad igual o superior a 120 años.\n",
        "\n",
        "  * *N_EMB < 99*: se descartan registros con 99 o más embarazos.\n",
        "\n",
        "* Esta limpieza se hace para evitar que estos valores atípicos distorsionen los análisis estadísticos y gráficos posteriores.\n",
        "\n",
        "* Finalmente, se visualizan las primeras cinco filas del nuevo conjunto de datos limpio *(df1.head(5))*."
      ],
      "metadata": {
        "id": "DQIMhpCOx-JA"
      }
    },
    {
      "cell_type": "code",
      "source": [
        "intervalos1 = range(min(df1.EDAD_PADRE), max(df1.EDAD_PADRE) + 1)\n",
        "plt.figure(figsize=(10, 6))\n",
        "sns.histplot(x = df1.EDAD_PADRE, bins = intervalos1, kde = True, stat = \"density\", color = \"skyblue\", edgecolor= \"black\")#kde=true es la grafica de la función de densidad de probabilidad estimada por el metodo kernell\n",
        "\n",
        "xmin, xmax = plt.xlim()\n",
        "x = np.linspace(xmin, xmax, 1000)\n",
        "p = norm.pdf(x, np.mean(df1.EDAD_PADRE), np.std(df1.EDAD_PADRE)) #pdf=función de densidad de probapilidad de la distribución normal, mean=media, std=desviación  estandar\n",
        "\n",
        "plt.plot(x, p, 'k', linewidth=2, label='Distribuición Normal', color = \"darkblue\")\n",
        "sns.kdeplot(x=df1.EDAD_PADRE, color =\"darkgreen\")\n",
        "\n",
        "plt.title(\"Histograma FDP por un Kernel y FDP bajo normalidad\")\n",
        "plt.xlabel(\"Edad (años)\")\n",
        "plt.ylabel(\"Densidad\")\n",
        "plt.legend()\n",
        "\n",
        "plt.show()"
      ],
      "metadata": {
        "colab": {
          "base_uri": "https://localhost:8080/",
          "height": 474
        },
        "id": "eIwf4ImMtmR6",
        "outputId": "320cc132-7f4a-4db8-c00b-8e60a26ab2e5"
      },
      "execution_count": 10,
      "outputs": [
        {
          "output_type": "stream",
          "name": "stderr",
          "text": [
            "<ipython-input-10-4bc2cab72390>:9: UserWarning: color is redundantly defined by the 'color' keyword argument and the fmt string \"k\" (-> color=(0.0, 0.0, 0.0, 1)). The keyword argument will take precedence.\n",
            "  plt.plot(x, p, 'k', linewidth=2, label='Distribuición Normal', color = \"darkblue\")\n"
          ]
        },
        {
          "output_type": "display_data",
          "data": {
            "text/plain": [
              "<Figure size 1000x600 with 1 Axes>"
            ],
            "image/png": "[encoded data removed]"
          },
          "metadata": {}
        }
      ]
    },
    {
      "cell_type": "markdown",
      "source": [
        "En este bloque se genera un histograma de la variable *EDAD_PADRE* utilizando el conjunto de datos limpio *(df1)*. Además, se agregan dos funciones de densidad para comparar:\n",
        "\n",
        "* El histograma se genera con sns.*histplot()*, donde:\n",
        "\n",
        "  * *kde=True* activa la curva de densidad estimada mediante el método Kernel Density Estimation (KDE).\n",
        "\n",
        "  * *stat=\"density\"* normaliza el eje Y para mostrar densidad en lugar de frecuencia absoluta.\n",
        "\n",
        "* Se define un rango de valores x entre el mínimo y el máximo del *eje X*, y se calcula la función de densidad teórica de una distribución normal usando la media y desviación estándar de los datos *(norm.pdf())*.\n",
        "\n",
        "* Se grafican:\n",
        "\n",
        "  * La curva azul oscuro que representa la distribución normal teórica.\n",
        "\n",
        "  * La curva verde que representa la densidad real estimada con KDE.\n",
        "\n",
        "Esto permite comparar visualmente si la variable *EDAD_PADRE* se comporta como una distribución normal o si hay desviaciones significativas."
      ],
      "metadata": {
        "id": "UNXAm0w3yjA-"
      }
    },
    {
      "cell_type": "markdown",
      "source": [
        "Sea $X:=$ Edad del padre de un recien nacido en Colombia.\n",
        "Descriptivamente como la funcion de densidad de probabilidad de los datos estimada por  un metodo kernel (linea verde) no coincide con la cuncion de densidad de probabilidad asumiendo el supuesto de normalidad (linea azul). $X\\sim \\text{normal}  (\\text{Media} = \\bar{x}, \\text{Varianza} = S^2_x)$, entonces no asumimos normalidad."
      ],
      "metadata": {
        "id": "qZ7FqFz15Fr5"
      }
    },
    {
      "cell_type": "code",
      "source": [
        "intervalos1 = range(min(df1.N_EMB), max(df1.N_EMB) + 1)\n",
        "plt.figure(figsize=(10, 6))\n",
        "sns.histplot(x = df1.N_EMB, bins = intervalos1, kde = True, stat = \"density\", color = \"pink\", edgecolor= \"black\")#kde=true es la grafica de la función de densidad de probabilidad estimada por el metodo kernell\n",
        "\n",
        "xmin, xmax = plt.xlim()\n",
        "x = np.linspace(xmin, xmax, 1000)\n",
        "p = norm.pdf(x, np.mean(df1.N_EMB), np.std(df1.N_EMB)) #pdf=función de densidad de probapilidad de la distribución normal, mean=media, std=desviación  estandar\n",
        "\n",
        "plt.plot(x, p, 'k', linewidth=2, label='Distribuición Normal', color = \"Purple\")\n",
        "sns.kdeplot(x=df1.N_EMB, color =\"red\")\n",
        "\n",
        "plt.title(\"Histograma FDP por un Kernel y FDP bajo normalidad\")\n",
        "plt.xlabel(\"Número de embarazos\")\n",
        "plt.ylabel(\"Densidad\")\n",
        "plt.legend()\n",
        "\n",
        "plt.show()"
      ],
      "metadata": {
        "colab": {
          "base_uri": "https://localhost:8080/",
          "height": 474
        },
        "id": "iYv__R2Ff1zr",
        "outputId": "9fc1177c-3657-4113-f887-b10d6ac74aff"
      },
      "execution_count": 11,
      "outputs": [
        {
          "output_type": "stream",
          "name": "stderr",
          "text": [
            "<ipython-input-11-99b7c54da407>:9: UserWarning: color is redundantly defined by the 'color' keyword argument and the fmt string \"k\" (-> color=(0.0, 0.0, 0.0, 1)). The keyword argument will take precedence.\n",
            "  plt.plot(x, p, 'k', linewidth=2, label='Distribuición Normal', color = \"Purple\")\n"
          ]
        },
        {
          "output_type": "display_data",
          "data": {
            "text/plain": [
              "<Figure size 1000x600 with 1 Axes>"
            ],
            "image/png": "[encoded data removed]"
          },
          "metadata": {}
        }
      ]
    },
    {
      "cell_type": "markdown",
      "source": [
        "En este bloque se construye el histograma de la variable *N_EMB* (número de embarazos) usando el conjunto de datos limpio *(df1)*. Se superponen dos curvas:\n",
        "\n",
        "*  La curva KDE (roja), que estima la densidad de probabilidad real con el método Kernel.\n",
        "\n",
        "* La curva teórica normal (morada), calculada con la media y desviación estándar de los datos reales *(norm.pdf())*.\n",
        "\n",
        "Esto permite observar si la distribución de *N_EMB* se asemeja a una distribución normal o no.\n",
        "\n",
        "Además:\n",
        "\n",
        "* El histograma se normaliza *(stat=\"density\")* para que la suma del área sea 1.\n",
        "\n",
        "Las etiquetas y leyendas ayudan a interpretar los resultados correctamente."
      ],
      "metadata": {
        "id": "i_GVmhbnzfcZ"
      }
    },
    {
      "cell_type": "markdown",
      "source": [
        "sea $X':=$ Número de embarazos en Colombia.\n",
        "Descriptivamente como la funcion de densidad de probabilidad de los datos estimada por  un metodo kernel (linea roja) no coincide con la cuncion de densidad de probabilidad asumiendo el supuesto de normalidad (linea morada). $X\\sim \\text{normal}  (\\text{Media} = \\bar{x}, \\text{Varianza} = S^2_x)$, entonces no asumimos normalidad."
      ],
      "metadata": {
        "id": "D2qSZcHkhUbb"
      }
    },
    {
      "cell_type": "code",
      "source": [
        "shapiro(df1.EDAD_PADRE) #prueba de Shapiro Wilk, para probar que definitivamente no se tiene normalidad"
      ],
      "metadata": {
        "colab": {
          "base_uri": "https://localhost:8080/"
        },
        "id": "zhuPwv_z71Xg",
        "outputId": "c2c15b20-7070-4d03-e16b-8b0ce5460f8e"
      },
      "execution_count": 12,
      "outputs": [
        {
          "output_type": "stream",
          "name": "stderr",
          "text": [
            "/usr/local/lib/python3.11/dist-packages/scipy/stats/_axis_nan_policy.py:586: UserWarning: scipy.stats.shapiro: For N > 5000, computed p-value may not be accurate. Current N is 620089.\n",
            "  res = hypotest_fun_out(*samples, **kwds)\n"
          ]
        },
        {
          "output_type": "execute_result",
          "data": {
            "text/plain": [
              "ShapiroResult(statistic=np.float64(0.9585366961101476), pvalue=np.float64(1.0550548621328776e-120))"
            ]
          },
          "metadata": {},
          "execution_count": 12
        }
      ]
    },
    {
      "cell_type": "markdown",
      "source": [
        "En este bloque se aplica la **prueba de normalidad de Shapiro-Wilk** a la variable *EDAD_PADRE* utilizando la función *shapiro()* de la librería *scipy.stats*.\n",
        "\n",
        "Esta prueba evalúa si los datos provienen de una distribución normal:\n",
        "\n",
        "* Devuelve dos valores: el estadístico de la prueba y el valor p.\n",
        "\n",
        "* Si el valor p es menor a 0.05, se rechaza la hipótesis nula, lo que indica que los datos no siguen una distribución normal.\n",
        "\n",
        "* Si el valor p es mayor a 0.05, no se rechaza la hipótesis nula, por lo tanto, los datos podrían seguir una distribución normal.\n",
        "\n",
        "Este resultado debe analizarse junto con el histograma y la curva de densidad estimada."
      ],
      "metadata": {
        "id": "ukywxwICz2hT"
      }
    },
    {
      "cell_type": "markdown",
      "source": [
        "\n",
        "\n",
        "En nuestor caso particular, tenemos que pvalue=0.0 < 0.05, es decir, se rechaza que la variables aleatoria de la edad de un padre de un recien nacido en Colombia presenta distribuición normal\n",
        "\n"
      ],
      "metadata": {
        "id": "GkfQI5gl97Hc"
      }
    },
    {
      "cell_type": "code",
      "source": [
        "df1.EDAD_PADRE.count()\n",
        "len(df1.EDAD_PADRE)"
      ],
      "metadata": {
        "colab": {
          "base_uri": "https://localhost:8080/"
        },
        "id": "JSubAJnT7zrj",
        "outputId": "3018b040-f809-4279-864c-25c756b21215"
      },
      "execution_count": 13,
      "outputs": [
        {
          "output_type": "execute_result",
          "data": {
            "text/plain": [
              "620089"
            ]
          },
          "metadata": {},
          "execution_count": 13
        }
      ]
    },
    {
      "cell_type": "markdown",
      "source": [
        "En este bloque se calcula la cantidad de datos disponibles en la variable *EDAD_PADRE* después de aplicar la limpieza:\n",
        "\n",
        "* *df1.EDAD_PADRE.count()*: cuenta el número de datos no nulos (no vacíos) en la columna *EDAD_PADRE*.\n",
        "\n",
        "* *len(df1.EDAD_PADRE)*: mide la longitud total de la columna, es decir, el número total de filas.\n",
        "\n",
        "Conocer la cantidad de datos es importante para interpretar la validez de los resultados estadísticos posteriores.\""
      ],
      "metadata": {
        "id": "v59qkfWI0aoR"
      }
    },
    {
      "cell_type": "code",
      "source": [
        "idx = np.random.randint(len(df1.EDAD_PADRE), size = 100)\n",
        "shapiro(df1.EDAD_PADRE.iloc[idx])\n"
      ],
      "metadata": {
        "colab": {
          "base_uri": "https://localhost:8080/"
        },
        "id": "BES4FKPWj3Bv",
        "outputId": "d3a05158-938a-4dc9-ea40-dc3d5db2f42f"
      },
      "execution_count": 18,
      "outputs": [
        {
          "output_type": "execute_result",
          "data": {
            "text/plain": [
              "ShapiroResult(statistic=np.float64(0.9399585900537012), pvalue=np.float64(0.00019167421672431855))"
            ]
          },
          "metadata": {},
          "execution_count": 18
        }
      ]
    },
    {
      "cell_type": "markdown",
      "source": [
        "En este bloque se aplica la prueba de normalidad de **Shapiro-Wilk** a una muestra aleatoria de 100 datos de la variable /EDAD_PADRE/:\n",
        "\n",
        "* *np.random.randint(len(df1.EDAD_PADRE), size=100)* genera 100 posiciones aleatorias dentro del tamaño de la columna.\n",
        "\n",
        "* *df1.EDAD_PADRE.iloc[idx]* selecciona los valores de edad correspondientes a esas posiciones aleatorias.\n",
        "\n",
        "* Luego, *shapiro()* evalúa si esta muestra aleatoria sigue una distribución normal.\n",
        "\n",
        "Esta técnica se utiliza cuando el conjunto de datos es grande, ya que Shapiro-Wilk puede ser más preciso o ejecutarse más rápido en muestras pequeñas."
      ],
      "metadata": {
        "id": "71MC6Sxk0vLn"
      }
    },
    {
      "cell_type": "markdown",
      "source": [
        "Como el valor p (igual a $1.000675320383948 ×10^{-9} $) es menor que 0.05, entonces rechaza que la variable aleatoria de la edad de un padre de un recien nacido en Colombia presenta distribuición normal."
      ],
      "metadata": {
        "id": "c62jPLA4mG91"
      }
    },
    {
      "cell_type": "code",
      "source": [
        "shapiro(df1.N_EMB)"
      ],
      "metadata": {
        "colab": {
          "base_uri": "https://localhost:8080/"
        },
        "id": "7zIN9lzLh_Fi",
        "outputId": "cda39617-bbc5-4051-d443-62a01ec2f0e6"
      },
      "execution_count": null,
      "outputs": [
        {
          "output_type": "stream",
          "name": "stderr",
          "text": [
            "/usr/local/lib/python3.11/dist-packages/scipy/stats/_axis_nan_policy.py:573: UserWarning:\n",
            "\n",
            "scipy.stats.shapiro: For N > 5000, computed p-value may not be accurate. Current N is 620089.\n",
            "\n"
          ]
        },
        {
          "output_type": "execute_result",
          "data": {
            "text/plain": [
              "ShapiroResult(statistic=np.float64(0.7727150151798861), pvalue=np.float64(7.969573267819491e-175))"
            ]
          },
          "metadata": {},
          "execution_count": 74
        }
      ]
    },
    {
      "cell_type": "markdown",
      "source": [
        "Se aplica la prueba de normalidad de **Shapiro-Wilk** a la variable *N_EMB*, que representa el número de embarazos (incluyendo el actual):\n",
        "\n",
        "* Esta prueba determina si los datos siguen una distribución normal.\n",
        "\n",
        "* Devuelve dos valores:\n",
        "\n",
        "  * El estadístico de prueba, que mide qué tan cerca están los datos de una distribución normal.\n",
        "\n",
        "  * El valor p, que indica si se debe rechazar o no la hipótesis nula.\n",
        "\n",
        "Interpretación:\n",
        "\n",
        "* Si *p < 0.05*, se rechaza la hipótesis nula: los datos no siguen una distribución normal.\n",
        "\n",
        "* Si *p ≥ 0.05*, no se rechaza la hipótesis nula: los datos podrían seguir una distribución normal."
      ],
      "metadata": {
        "id": "PyakS97J1lot"
      }
    },
    {
      "cell_type": "code",
      "source": [
        "df1.N_EMB.count()\n",
        "len(df1.N_EMB)"
      ],
      "metadata": {
        "colab": {
          "base_uri": "https://localhost:8080/"
        },
        "outputId": "09cd4675-87e2-4648-8c07-6b20fda46a90",
        "id": "rXwwDpxUj3V7"
      },
      "execution_count": null,
      "outputs": [
        {
          "output_type": "execute_result",
          "data": {
            "text/plain": [
              "620089"
            ]
          },
          "metadata": {},
          "execution_count": 75
        }
      ]
    },
    {
      "cell_type": "markdown",
      "source": [
        "En este bloque se calcula el número total de observaciones de la variable *N_EMB* después de la limpieza:\n",
        "\n",
        " * *df1.N_EMB.count()*: cuenta el número de valores no nulos (no vacíos) en la columna N_EMB.\n",
        "\n",
        "*  *len(df1.N_EMB)*: mide la longitud total de la columna, es decir, el número total de registros.\n",
        "\n",
        "En este caso, ambos métodos deberían devolver el mismo resultado, ya que después de la limpieza no se dejaron valores nulos.\n",
        "\n",
        "Saber cuántos datos hay es importante para validar el tamaño de la muestra y la confiabilidad de los análisis estadísticos posteriores."
      ],
      "metadata": {
        "id": "nPwuvR2Z15vF"
      }
    },
    {
      "cell_type": "code",
      "source": [
        "idx = np.random.randint(len(df1.N_EMB), size = 100)\n",
        "shapiro(df1.N_EMB.iloc[idx])"
      ],
      "metadata": {
        "colab": {
          "base_uri": "https://localhost:8080/"
        },
        "id": "Q2hODQBo1FPE",
        "outputId": "7214e782-5c1a-4abe-fb2b-425d18ad9511"
      },
      "execution_count": 21,
      "outputs": [
        {
          "output_type": "execute_result",
          "data": {
            "text/plain": [
              "ShapiroResult(statistic=np.float64(0.7562110706656648), pvalue=np.float64(1.3707728517395293e-11))"
            ]
          },
          "metadata": {},
          "execution_count": 21
        }
      ]
    },
    {
      "cell_type": "markdown",
      "source": [
        "En este bloque se aplica la prueba de normalidad de **Shapiro-Wilk** a una muestra aleatoria de 100 datos de la variable *N_EMB*:\n",
        "\n",
        "* *np.random.randint(len(df1.N_EMB), size=100)* genera 100 posiciones aleatorias dentro del tamaño de la columna.\n",
        "\n",
        "* *df1.N_EMB.iloc[idx]* selecciona los valores de edad correspondientes a esas posiciones aleatorias.\n",
        "\n",
        "* Luego, *shapiro()* evalúa si esta muestra aleatoria sigue una distribución normal."
      ],
      "metadata": {
        "id": "K0CMaSgt2fqY"
      }
    },
    {
      "cell_type": "markdown",
      "source": [
        "En este caso, tenemos que pvalue=  7.96 × 10⁻¹⁷⁵< 0.05 rechazas la hipótesis de normalidad y el número de embarazos en Colombia no se comporta como una distribución normal."
      ],
      "metadata": {
        "id": "3nnUIkBjiQ4Y"
      }
    },
    {
      "cell_type": "code",
      "source": [
        "plt.figure(figsize=(5,5))\n",
        "sns.boxplot(df1.EDAD_PADRE, color =\"skyblue\", saturation=0.75)\n",
        "plt.title(\"Boxplot de la edad del padre\")\n",
        "plt.show()"
      ],
      "metadata": {
        "colab": {
          "base_uri": "https://localhost:8080/",
          "height": 450
        },
        "id": "zslRzQdamE-V",
        "outputId": "00d60e92-5d3d-4359-b662-e1fee648e3e7"
      },
      "execution_count": null,
      "outputs": [
        {
          "output_type": "display_data",
          "data": {
            "text/plain": [
              "<Figure size 500x500 with 1 Axes>"
            ],
            "image/png": "[encoded data removed]"
          },
          "metadata": {}
        }
      ]
    },
    {
      "cell_type": "markdown",
      "source": [],
      "metadata": {
        "id": "sT-TTdLo3gk-"
      }
    },
    {
      "cell_type": "markdown",
      "source": [
        "Se considera que la edad de un padre de un recien nacido en Colombia es atípica si es mayor que 50 años. El primer cuartil es aproximadamente 25 años, la media aritmética es aproximadamente 29 años y el tercer cuartil es aproximadamente 35 años.\n",
        "\n",
        "$\\text{Rango intercuartílico = Tercer cuartil - Primer cuartil} =35 - 25 =10$"
      ],
      "metadata": {
        "id": "-eKjeYiWqqIq"
      }
    },
    {
      "cell_type": "code",
      "source": [
        "plt.figure(figsize=(5,5))\n",
        "sns.boxplot(df1.N_EMB, color =\"pink\", saturation=0.75)\n",
        "plt.title(\"Boxplot del número de embarazos\")\n",
        "plt.show()"
      ],
      "metadata": {
        "colab": {
          "base_uri": "https://localhost:8080/",
          "height": 449
        },
        "outputId": "0884e593-3c02-4b5b-b4df-39f1a7975014",
        "id": "eq5Z_p1ElT6E"
      },
      "execution_count": null,
      "outputs": [
        {
          "output_type": "display_data",
          "data": {
            "text/plain": [
              "<Figure size 500x500 with 1 Axes>"
            ],
            "image/png": "[encoded data removed]"
          },
          "metadata": {}
        }
      ]
    },
    {
      "cell_type": "markdown",
      "source": [
        "El análisis del número de embarazos en Colombia muestra que los valores superiores a 6 pueden ser considerados atípicos. El primer cuartil es igual a 1, la media aritmética es 2, y el tercer cuartil es 3.\n",
        "\n",
        "$\\text{Rango intercuartílico = Tercer cuartil - Primer cuartil} =3 - 1 =2$"
      ],
      "metadata": {
        "id": "DeJEKBY2l3Ne"
      }
    },
    {
      "cell_type": "code",
      "source": [
        "print(f\"Media : {np.mean(df1.EDAD_PADRE)}\")\n",
        "print(f\"Varianza : {np.var(df1.EDAD_PADRE)}y la desviación estándar es de {np.std(df1.EDAD_PADRE)}\")\n",
        "print(f\"Asimetría : {skew(df1.EDAD_PADRE)}\")\n",
        "print(f\"Curtosis : {kurtosis(df1.EDAD_PADRE)}\")"
      ],
      "metadata": {
        "colab": {
          "base_uri": "https://localhost:8080/"
        },
        "id": "3MnR_6Vrl4yW",
        "outputId": "5cdd3fa1-beed-4c1e-c5b5-92e3fe89fec6"
      },
      "execution_count": null,
      "outputs": [
        {
          "output_type": "stream",
          "name": "stdout",
          "text": [
            "Media : 29.677262990134402\n",
            "Varianza : 58.13770767232451y la desviación estándar es de 7.624808697424776\n",
            "Asimetría : 0.8353028835229743\n",
            "Curtosis : 0.9739261066839422\n"
          ]
        }
      ]
    },
    {
      "cell_type": "markdown",
      "source": [
        "\n",
        "\n",
        "*   Aproximadamente el promedio de la edad de un padre de un recien nacido en Colombia es de 29.7 años\n",
        "*   Aproximadamente la dstancia entre los valores de la edad un padre de un recien nacido enColombia y la media es de 7.62 años\n",
        "*   La distribución de la edad de un padre de un recien nacido en Colombia es asimétrica positiva, es decir, la media es mayor que la moda de la variable aleatoria\n",
        "*   La distribución es platicúrtica, es decir, hay una baja concentración de las edades de un padre de un recien nacido en Colombia con respecto a al media\n",
        "\n"
      ],
      "metadata": {
        "id": "v1ZT4g9AA4ud"
      }
    },
    {
      "cell_type": "code",
      "source": [],
      "metadata": {
        "id": "zG5FaoOYpC84"
      },
      "execution_count": null,
      "outputs": []
    },
    {
      "cell_type": "code",
      "source": [
        "print(f\"Media : {np.mean(df1.N_EMB)}\")\n",
        "print(f\"Varianza : {np.var(df1.N_EMB)}y la desviación estándar es de {np.std(df1.N_EMB)}\")\n",
        "print(f\"Asimetría : {skew(df1.N_EMB)}\")\n",
        "print(f\"Curtosis : {kurtosis(df1.N_EMB)}\")"
      ],
      "metadata": {
        "colab": {
          "base_uri": "https://localhost:8080/"
        },
        "outputId": "dbc5a342-ca29-4a73-d054-4aeeee7320af",
        "id": "HdsFYX_6pDTY"
      },
      "execution_count": null,
      "outputs": [
        {
          "output_type": "stream",
          "name": "stdout",
          "text": [
            "Media : 2.1018111916192677\n",
            "Varianza : 1.7487690570926004y la desviación estándar es de 1.3224103210019953\n",
            "Asimetría : 1.9224080210250476\n",
            "Curtosis : 6.016780393777454\n"
          ]
        }
      ]
    },
    {
      "cell_type": "markdown",
      "source": [
        "*   En promedio, las mujeres en Colombia tienen alrededor de 2 embarazos.\n",
        "*   La varianza indica la dispersión de los datos. Como no es muy alta comparada con la media, los datos no están tan dispersos, aunque hay cierta variabilidad (de 1.75).\n",
        "*   El número de embarazos está fuertemente sesgado hacia la derecha (hay más mujeres con pocos embarazos, pero algunas pocas tienen muchos embarazos, y eso estira la distribución hacia la derecha)., es decir, la media es mayor que la moda de la variable aleatoria\n",
        "*   La distribución es leptocúrtica, es decir, s decir, más concentrada alrededor de la media pero con colas más pesadas, evidenciando la presencia de valores extremos.\n",
        "\n"
      ],
      "metadata": {
        "id": "42H9jpF8pDTa"
      }
    },
    {
      "cell_type": "code",
      "source": [
        "plt.figure(figsize=(5,4))\n",
        "plt. scatter(df1.N_EMB, df1.EDAD_PADRE, color = \"skyblue\", marker =\"o\")\n",
        "plt.title(\"Diagrama de dispersión del número de embarazos con respecto a la edad del padre\")\n",
        "plt.xlabel(\"Número de embarazos\")\n",
        "plt.ylabel(\"Edad del padre (años)\")\n",
        "plt.show\n"
      ],
      "metadata": {
        "colab": {
          "base_uri": "https://localhost:8080/",
          "height": 581
        },
        "id": "pjL_EV1nJB0K",
        "outputId": "e8b736fa-51ce-405f-ed57-56b0ea7d0aa5"
      },
      "execution_count": null,
      "outputs": [
        {
          "output_type": "execute_result",
          "data": {
            "text/plain": [
              "<function matplotlib.pyplot.show(close=None, block=None)>"
            ],
            "text/html": [
              "<div style=\"max-width:800px; border: 1px solid var(--colab-border-color);\"><style>\n",
              "      pre.function-repr-contents {\n",
              "        overflow-x: auto;\n",
              "        padding: 8px 12px;\n",
              "        max-height: 500px;\n",
              "      }\n",
              "\n",
              "      pre.function-repr-contents.function-repr-contents-collapsed {\n",
              "        cursor: pointer;\n",
              "        max-height: 100px;\n",
              "      }\n",
              "    </style>\n",
              "    <pre style=\"white-space: initial; background:\n",
              "         var(--colab-secondary-surface-color); padding: 8px 12px;\n",
              "         border-bottom: 1px solid var(--colab-border-color);\"><b>matplotlib.pyplot.show</b><br/>def show(*args, **kwargs) -&gt; None</pre><pre class=\"function-repr-contents function-repr-contents-collapsed\" style=\"\"><a class=\"filepath\" style=\"display:none\" href=\"#\">/usr/local/lib/python3.11/dist-packages/matplotlib/pyplot.py</a>Display all open figures.\n",
              "\n",
              "Parameters\n",
              "----------\n",
              "block : bool, optional\n",
              "    Whether to wait for all figures to be closed before returning.\n",
              "\n",
              "    If `True` block and run the GUI main loop until all figure windows\n",
              "    are closed.\n",
              "\n",
              "    If `False` ensure that all figure windows are displayed and return\n",
              "    immediately.  In this case, you are responsible for ensuring\n",
              "    that the event loop is running to have responsive figures.\n",
              "\n",
              "    Defaults to True in non-interactive mode and to False in interactive\n",
              "    mode (see `.pyplot.isinteractive`).\n",
              "\n",
              "See Also\n",
              "--------\n",
              "ion : Enable interactive mode, which shows / updates the figure after\n",
              "      every plotting command, so that calling ``show()`` is not necessary.\n",
              "ioff : Disable interactive mode.\n",
              "savefig : Save the figure to an image file instead of showing it on screen.\n",
              "\n",
              "Notes\n",
              "-----\n",
              "**Saving figures to file and showing a window at the same time**\n",
              "\n",
              "If you want an image file as well as a user interface window, use\n",
              "`.pyplot.savefig` before `.pyplot.show`. At the end of (a blocking)\n",
              "``show()`` the figure is closed and thus unregistered from pyplot. Calling\n",
              "`.pyplot.savefig` afterwards would save a new and thus empty figure. This\n",
              "limitation of command order does not apply if the show is non-blocking or\n",
              "if you keep a reference to the figure and use `.Figure.savefig`.\n",
              "\n",
              "**Auto-show in jupyter notebooks**\n",
              "\n",
              "The jupyter backends (activated via ``%matplotlib inline``,\n",
              "``%matplotlib notebook``, or ``%matplotlib widget``), call ``show()`` at\n",
              "the end of every cell by default. Thus, you usually don&#x27;t have to call it\n",
              "explicitly there.</pre>\n",
              "      <script>\n",
              "      if (google.colab.kernel.accessAllowed && google.colab.files && google.colab.files.view) {\n",
              "        for (const element of document.querySelectorAll('.filepath')) {\n",
              "          element.style.display = 'block'\n",
              "          element.onclick = (event) => {\n",
              "            event.preventDefault();\n",
              "            event.stopPropagation();\n",
              "            google.colab.files.view(element.textContent, 569);\n",
              "          };\n",
              "        }\n",
              "      }\n",
              "      for (const element of document.querySelectorAll('.function-repr-contents')) {\n",
              "        element.onclick = (event) => {\n",
              "          event.preventDefault();\n",
              "          event.stopPropagation();\n",
              "          element.classList.toggle('function-repr-contents-collapsed');\n",
              "        };\n",
              "      }\n",
              "      </script>\n",
              "      </div>"
            ]
          },
          "metadata": {},
          "execution_count": 87
        },
        {
          "output_type": "display_data",
          "data": {
            "text/plain": [
              "<Figure size 500x400 with 1 Axes>"
            ],
            "image/png": "[encoded data removed]"
          },
          "metadata": {}
        }
      ]
    },
    {
      "cell_type": "markdown",
      "source": [
        "El número de embarazos y la edad de un padre en Colombia no están correlacionadas."
      ],
      "metadata": {
        "id": "f45r3kQ_E46H"
      }
    },
    {
      "cell_type": "code",
      "source": [
        "modelo = LinearRegression()\n",
        "modelo.fit(np.array(df1.N_EMB).reshape(-1, 1), np.array(df1.EDAD_PADRE).reshape(-1, 1))\n",
        "predi_lineal = modelo.predict(np.array(df1.N_EMB).reshape(-1, 1))\n",
        "predi_lineal"
      ],
      "metadata": {
        "colab": {
          "base_uri": "https://localhost:8080/"
        },
        "id": "G7UUElLUKzKp",
        "outputId": "a31fd689-958e-408b-e50a-25a9bbe73c5c"
      },
      "execution_count": null,
      "outputs": [
        {
          "output_type": "execute_result",
          "data": {
            "text/plain": [
              "array([[27.43534225],\n",
              "       [27.43534225],\n",
              "       [27.43534225],\n",
              "       ...,\n",
              "       [29.47056813],\n",
              "       [27.43534225],\n",
              "       [27.43534225]])"
            ]
          },
          "metadata": {},
          "execution_count": 88
        }
      ]
    },
    {
      "cell_type": "code",
      "source": [
        "plt.figure(figsize=(5,4))\n",
        "plt. scatter(df1.N_EMB, df1.EDAD_PADRE, color = \"blue\", marker =\"o\")\n",
        "plt.plot(df1.N_EMB, predi_lineal, linestyle=\"-\", color = \"purple\")\n",
        "plt.title(\"Diagrama de dispersión del número de embarazos con respecto a la edad del padre\")\n",
        "plt.xlabel(\"Número de embarazos\")\n",
        "plt.ylabel(\"Edad del padre (años)\")\n",
        "plt.show()\n"
      ],
      "metadata": {
        "colab": {
          "base_uri": "https://localhost:8080/",
          "height": 411
        },
        "id": "N3RSfYImLjWN",
        "outputId": "9a83f59e-d7fd-4c16-a357-928200056c85"
      },
      "execution_count": null,
      "outputs": [
        {
          "output_type": "display_data",
          "data": {
            "text/plain": [
              "<Figure size 500x400 with 1 Axes>"
            ],
            "image/png": "[encoded data removed]"
          },
          "metadata": {}
        }
      ]
    },
    {
      "cell_type": "markdown",
      "source": [
        "De acuerdo con la recta de regresión se determina una correlación positiva, es decir que  los hombres con mayor edad tienden a tener parejas con más embarazos"
      ],
      "metadata": {
        "id": "Qvid44RWGXJI"
      }
    },
    {
      "cell_type": "code",
      "source": [
        "coef_person = np.corrcoef(df1.N_EMB, df1.EDAD_PADRE)[0, 1]\n",
        "coef_spearman, _ =spearmanr(df1.N_EMB, df1.EDAD_PADRE)\n",
        "coef_kendall, _ = kendalltau(df1.N_EMB, df1.EDAD_PADRE)\n",
        "print(f\"Los coeficientes de correlación de Pearson, Spearman y Kendall son respectivamente {coef_person}, {coef_spearman} y {coef_kendall}.\")"
      ],
      "metadata": {
        "colab": {
          "base_uri": "https://localhost:8080/"
        },
        "id": "r_lB7DcvAf8p",
        "outputId": "be599232-58c4-4fec-8f5d-68352db6cb7b"
      },
      "execution_count": null,
      "outputs": [
        {
          "output_type": "stream",
          "name": "stdout",
          "text": [
            "Los coeficientes de correlación de Pearson, Spearman y Kendall son respectivamente 0.3529583266676772, 0.37985917047049816 y 0.29686774207661487.\n"
          ]
        }
      ]
    },
    {
      "cell_type": "markdown",
      "source": [
        "Para la iterpretación de los coeficientes de correlación nos ayudaremos de la referencia:\n",
        "\n",
        "Landis, J. R., & Koch, G. G. (1977). The measurement of observer agreement for categorical data. biometrics, 159-174. [Link](https://www.jstor.org/stable/2529310)\n",
        "\n",
        "*   X y Y son independientes o no estaán correlacionadas: $\\rho (X, Y) \\approx 0, \\eta (X,Y) \\approx 0, \\kappa (X,Y) \\approx 0$\n",
        "*   Y depende insignificantemente de X o X y Y están insignificantemente correlacionadas si  $0 < \\vert \\rho (X, Y) \\vert < 0.2$, $0 < \\eta (X, Y) \\vert < 0.2$, $0 < \\vert \\kappa (X, Y) \\vert < 0.2$\n",
        "*  Y depende discretamente de X o X y Y están discretamente correlacionadas si  $0.2 < \\vert \\rho (X, Y) \\vert < 0.4$, $0.2 < \\eta (X, Y) \\vert < 0.4$, $0.2 < \\vert \\kappa (X, Y) \\vert < 0.4$\n",
        "*  Y depende moderadamente de X o X y Y están moderadamente correlacionadas si  $0.4 < \\vert \\rho (X, Y) \\vert < 0.6$, $0.4 < \\eta (X, Y) \\vert < 0.6$, $0.4 < \\vert \\kappa (X, Y) \\vert < 0.6$\n",
        "*  Y depende sustancialmente de X o X y Y están sustancialmente correlacionadas si  $0.6 < \\vert \\rho (X, Y) \\vert < 0.8$, $0.6 < \\eta (X, Y) \\vert < 0.8$, $0.6 < \\vert \\kappa (X, Y) \\vert < 0.8$\n",
        "*  Y depende fuertemente de X o X y Y están fuertemente correlacionadas si  $0.8 < \\vert \\rho (X, Y) \\vert < 1$, $0.8 < \\eta (X, Y) \\vert < 1$, $0.8 < \\vert \\kappa (X, Y) \\vert < 1$"
      ],
      "metadata": {
        "id": "Xg1yr1UfOa5N"
      }
    },
    {
      "cell_type": "markdown",
      "source": [
        "De acuerdo con los coeficientes de correlación de Pearson, de Kendall y de Spearman se determinan que el número de embarazos y la edad de un padre de un recién nacido en Colombia están discretamente correlacionadas."
      ],
      "metadata": {
        "id": "oJdLsWqHTKfe"
      }
    },
    {
      "cell_type": "markdown",
      "source": [
        "# **1. ¿Cómo se comporta la edad del padre (EDAD_PADRE)?**\n",
        "\n",
        "En el histograma de edad del padre se muestra lo que es una distribución unimodal con valores concentrado en las edades de veinte a treinta años mostrando una cola hacia la derecha que indica asimetría positiva. Esto los podemos confirmar numéricamente así:\n",
        "*   \tLa media es aproximadamente 29.7 años.\n",
        "*   \tLa desviación es de 7.62 años.\n",
        "*   \tEl coeficiente de asimetría es +0.835.\n",
        "*   \tLa curtosis es aproximadamente +0.97.\n",
        "\n",
        "La asimetría positiva indica que hay más valores extremos por encima de la media que por debajo de esta. Por su parte, la curtosis positiva significa colas “más pesadas” y más valores atípicos extremos que en una distribución normal. La edad del padre se comporta con un perfil asimétrico positivo y leptocúrtico, con tendencia a presentar casos de edad mayores como valores atípicos.\n",
        "\n",
        "Los estadísticos descriptivos claves de *(EDAD_PADRE)* son: media y desviación típica. Debido al sesgo positivo la media supera a la mediana. La dispersión es moderada $(varianza ≈ 58.14)$. En términos de forma, la distribución es platicúrtica relativa a la normalidad de Pearson pues tiene colas más pesadas, lo cual sugiere una menor concentración de datos en torno a la media y presencia de valores extremos. Estos concuerda con la forma observada en el histograma y muestra una no normalidad para *(EDAD_PADRE)*."
      ],
      "metadata": {
        "id": "SNwSgGOmkBEt"
      }
    },
    {
      "cell_type": "markdown",
      "source": [
        "# **2. ¿Cómo se comporta el número de embarazos (N_EMB)?**\n",
        "\n",
        "\n",
        "En el histograma de *(N_EMB)* se muestra que la mayor parte de las observaciones están en valores bajos, 1 ó 2 embarazos, y la frecuencia decrece rápidamente para valores mayores, con una cola muy alargada hacia la derecha. Los resultados descriptivos muestran un fuerte sesgo positivo y gran concentración de valores bajos:\n",
        "*   La media es ≈ 2.10 embarazos.\n",
        "*  La desviación típica ≈ 1.32.\n",
        "* \tVarianza ≈ 1.75.\n",
        "* \tEl coeficiente de asimetría es ≈ +1.92, lo cual indica una gran cola derecha.\n",
        "\n",
        "La curtosis fue ≈ 6,02, lo cual indica una distribución altamente leptocúrtica con colas más “pesadas” y múltiples valores extremos. En otras palabras, a pesar de la baja dispersión central, hay varias observaciones con número muy elevado de embarazos (valores extremos) que extienden la cola derecha. La prueba de normalidad Shapiro-Wilk para *(N_EMB)* arrojó $W≈0.7727$ con $p-valor ~7.97×10⁻¹⁷⁵ (≪0.05)$, rechazando drásticamente la normalidad. Esto coincide con la notable asimetría y curtosis observadas. Esto es, dado que para una distribución normal el estadístico de curtosis es 0, obtener 6 indica muchos más valores atípicos extremos de lo normal.\n",
        "\n",
        "En conclusión, el número de embarazos presenta una distribución altamente sesgada a la derecha y leptocúrtica. Su $media (~2.1)$ supera claramente la $mediana (1)$, propio de la asimetría positiva. La mayoría de los casos tienen pocos embarazos, pero existen algunos casos con embarazos muy altos que distorsionan la forma. La forma de la distribución (cola larga) y los coeficientes de asimetría y curtosis evidencian claramente desviaciones de la normalidad, lo que se corrobora al rechazar Shapiro-Wilk la hipótesis de normalidad $(p≪0.05)$.\n"
      ],
      "metadata": {
        "id": "no64Siwxmyu3"
      }
    },
    {
      "cell_type": "markdown",
      "source": [
        "#**3. ¿Están correlacionadas estas dos variables? ¿Qué tan fuerte es la correlación?**\n",
        "\n",
        "En el diagrama de dispersión de *(N_EMB)* versus *(EDAD_PADRE)* se revela una ligera tendencia creciente: en general, padres de mayor edad tienden a asociarse a un número algo mayor de embarazos. Esta tendencia moderada se cuantifica con los coeficientes de correlación obtenidos: **Pearson $\\rho ≈ 0.353$**, **Spearman $\\eta ≈ 0.380$** y **Kendall $\\kappa ≈ 0.297$**. Todos son positivos, indicando relación creciente. Según la interpretación estándar, un valor de Pearson entre $0$ y $1$ indica correlación positiva (relación directa). Es claro que $0.353$ se sitúa en ese intervalo, señalando una correlación positiva moderada. De manera análoga, Spearman y Kendall, que son medidas no paramétricas basadas en rangos, también son positivas $(\\eta ≈ 0.38)$ y $(\\kappa ≈ 0.30)$.\n",
        "\n",
        "En conclusión, El análisis estadístico muestra que la edad del padre de un recien nacido en Colombia tiene *media $≈29.7$* años con distribución asimétrica positiva y no normal, y que el número de embarazos incluyendo el año actual tiene *media $≈2.1$* con fuerte asimetría positiva y curtosis elevada. Ambos análisis univariados coinciden en rechazar la normalidad *(Shapiro-Wilk, $p≪0.05$)* debido a su sesgo y colas anchas. El gráfico conjunto y los coeficientes de correlación indican que estas variables están correlacionadas positivamente en grado moderado *(Pearson $\\rho ≈ 0.353$*, *Spearman $\\eta ≈ 0.380$* y *Kendall $\\kappa ≈ 0.297$)*, lo que significa que padres de más edad tienden a asociarse a más embarazos, aunque la relación no es muy fuerte. Todos estos resultados se apoyan en los gráficos y cálculos descriptivos realizados, dando un panorama completo del comportamiento estadístico de ambas variables en el conjunto de datos."
      ],
      "metadata": {
        "id": "_sHB1cjGoOAO"
      }
    },
    {
      "cell_type": "markdown",
      "source": [
        "**Conclusión**\n",
        "\n",
        "En resumen, el análisis de las variables *EDAD_PADRE* y *N_EMB* revela que ambas presentan distribuciones sesgadas a la derecha, con asimetría positiva y presencia de valores atípicos extremos. La edad del padre tiene una distribución unimodal con una media de aproximadamente 29.7 años y una dispersión moderada, mientras que el número de embarazos muestra una distribución altamente sesgada y leptocúrtica, con una media de alrededor de 2.1 embarazos. Ambos análisis rechazan la normalidad, confirmando que las distribuciones no siguen una forma típica.\n",
        "\n",
        "La correlación entre estas dos variables, aunque moderada, es positiva. Es decir, a medida que aumenta la edad del padre, también tiende a aumentar el número de embarazos, aunque esta relación no es muy fuerte. Los coeficientes de correlación (Pearson ≈ 0.353, Spearman ≈ 0.380, Kendall ≈ 0.297) respaldan esta conclusión de manera consistente.\n",
        "\n",
        "Para el contexto colombiano, estos resultados sugieren que los padres de mayor edad tienden a tener más embarazos, aunque la relación no es determinante. Este hallazgo podría estar vinculado a factores socioeconómicos, culturales o demográficos específicos del país, como la transición de las edades reproductivas, los patrones de matrimonio o los cambios en la planificación familiar. Es relevante que, a pesar de la moderada correlación, la gran dispersión de los datos indica que otras variables podrían influir en la cantidad de embarazos, como el acceso a servicios de salud, la educación y las decisiones personales.\n"
      ],
      "metadata": {
        "id": "Z74i-PcB4ygn"
      }
    },
    {
      "cell_type": "code",
      "source": [],
      "metadata": {
        "id": "4PTOvitx4279"
      },
      "execution_count": null,
      "outputs": []
    },
    {
      "cell_type": "code",
      "source": [],
      "metadata": {
        "id": "bk_PJgqUmuan"
      },
      "execution_count": null,
      "outputs": []
    }
  ]
}